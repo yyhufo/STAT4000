{
 "cells": [
  {
   "cell_type": "markdown",
   "metadata": {
    "nbgrader": {
     "cell_type": "markdown",
     "checksum": "4b2d2dc37062f8d7d6723a7b0d1ec679",
     "grade": false,
     "grade_id": "cell-e0d1f28bb04be6d2",
     "locked": true,
     "schema_version": 3,
     "solution": false,
     "task": false
    }
   },
   "source": [
    "# Unit 3 Classwork\n",
    "\n",
    "The goals of this assignment are to help you (1) calculate expectations of random variables using R, (2) simulate probabilistic processes, and (3) estimate probabilities and other quantities through numerical (computer) simulation. Such simulations can be useful. We can use simulations to help confirm that we've calculated a probability \"by hand\" correctly, or to estimate other quantities, like areas/integrals!"
   ]
  },
  {
   "cell_type": "markdown",
   "metadata": {
    "nbgrader": {
     "cell_type": "markdown",
     "checksum": "fbea7d0d93c16fe2efe06f7cc50ed908",
     "grade": false,
     "grade_id": "cell-0d531a8b23868a1c",
     "locked": true,
     "schema_version": 3,
     "solution": false,
     "task": false
    }
   },
   "source": [
    "## Problem #1\n",
    "\n",
    "**1.(a) Write a function to calculate the expected value of a binomial random variable, using the definition of expectation. In other words, if $X \\sim \\text{Bin}(n, p)$, your function should take $n$ and $p$ as inputs, and return $E[X]$.**\n",
    "\n"
   ]
  },
  {
   "cell_type": "code",
   "execution_count": null,
   "metadata": {
    "nbgrader": {
     "cell_type": "code",
     "checksum": "9dc3d054c3e727f801afd14afb391c6f",
     "grade": true,
     "grade_id": "cell-bf2111bcfe1bab51",
     "locked": false,
     "points": 2,
     "schema_version": 3,
     "solution": true,
     "task": false
    },
    "vscode": {
     "languageId": "r"
    }
   },
   "outputs": [],
   "source": []
  },
  {
   "cell_type": "markdown",
   "metadata": {
    "nbgrader": {
     "cell_type": "markdown",
     "checksum": "8acdb14c00d6ae2aa6ec2a2aac18f39e",
     "grade": false,
     "grade_id": "cell-44f4eda3281f811d",
     "locked": true,
     "schema_version": 3,
     "solution": false,
     "task": false
    }
   },
   "source": [
    "**1.(b) Store $m = 10,000$ binomial random numbers in a vector `x`. Each entry of `x` should represent the number of tails in $50$ flips of a biased coin (where $P(\\text{Heads}) = 0.75$).**"
   ]
  },
  {
   "cell_type": "code",
   "execution_count": null,
   "metadata": {
    "nbgrader": {
     "cell_type": "code",
     "checksum": "940b53dfe9607184d1cc9463728a4cb8",
     "grade": true,
     "grade_id": "cell-c258123b13c3173b",
     "locked": false,
     "points": 2,
     "schema_version": 3,
     "solution": true,
     "task": false
    },
    "vscode": {
     "languageId": "r"
    }
   },
   "outputs": [],
   "source": []
  },
  {
   "cell_type": "markdown",
   "metadata": {
    "nbgrader": {
     "cell_type": "markdown",
     "checksum": "2951ed52715414ac4ceec869688a55e8",
     "grade": false,
     "grade_id": "cell-83f8ea783c675c0c",
     "locked": true,
     "schema_version": 3,
     "solution": false,
     "task": false
    }
   },
   "source": [
    "**1.(c) Calculate the (sample) mean of `x`. Then, use the formula for the mean of a binomial, and the function above, to calculuate the mean of the random variable $X$, where $X$ counts the number of tails in 50 flips of a biased coin (again, $P(\\text{Heads}) = 0.75$). What do you notice? Do these answers match?**"
   ]
  },
  {
   "cell_type": "code",
   "execution_count": null,
   "metadata": {
    "nbgrader": {
     "cell_type": "code",
     "checksum": "36f27e2c59e74d00b314cebb4f834de2",
     "grade": true,
     "grade_id": "cell-68356bed0321af9a",
     "locked": false,
     "points": 1,
     "schema_version": 3,
     "solution": true,
     "task": false
    },
    "vscode": {
     "languageId": "r"
    }
   },
   "outputs": [],
   "source": []
  },
  {
   "cell_type": "markdown",
   "metadata": {},
   "source": []
  },
  {
   "cell_type": "markdown",
   "metadata": {
    "nbgrader": {
     "cell_type": "markdown",
     "checksum": "10de7b21cba704915779cd86e7c22c44",
     "grade": false,
     "grade_id": "cell-1e37676823b6830a",
     "locked": true,
     "schema_version": 3,
     "solution": false,
     "task": false
    }
   },
   "source": [
    "## Problem #2 \n",
    "\n",
    "**2.(a) First, write a function to calculate the expected value of an exponential random variable for an arbitrary $\\lambda$. Then, use it to compute the expected value $E[X]$, where $X \\sim \\text{Exp}(1/4)$. Hint: first make a function `integrand()` which takes a vector `x` and `lambda` as arguments, and then pass it to the `integrate()` function in `R`.**"
   ]
  },
  {
   "cell_type": "code",
   "execution_count": null,
   "metadata": {
    "nbgrader": {
     "cell_type": "code",
     "checksum": "474c02eb99366f544fe44bc9216d73b2",
     "grade": true,
     "grade_id": "cell-e0905a3aa915ca0f",
     "locked": false,
     "points": 1,
     "schema_version": 3,
     "solution": true,
     "task": false
    },
    "vscode": {
     "languageId": "r"
    }
   },
   "outputs": [],
   "source": []
  },
  {
   "cell_type": "markdown",
   "metadata": {
    "nbgrader": {
     "cell_type": "markdown",
     "checksum": "194088912b5591c7f542ac91bb928b2a",
     "grade": false,
     "grade_id": "cell-2f0892e70c275690",
     "locked": true,
     "schema_version": 3,
     "solution": false,
     "task": false
    }
   },
   "source": [
    "In class, we also worked with the PDF $f(x) = \\frac{3}{2}(1-x^2)$ on $0 \\le x \\le 1$ (zero elsewhere).\n",
    "\n",
    "**2.(b) Find $E[X^3]$.**"
   ]
  },
  {
   "cell_type": "code",
   "execution_count": null,
   "metadata": {
    "nbgrader": {
     "cell_type": "code",
     "checksum": "684975b5aa4218ef6a99ccb0b429625c",
     "grade": true,
     "grade_id": "cell-5a36d8a47db2491f",
     "locked": false,
     "points": 2,
     "schema_version": 3,
     "solution": true,
     "task": false
    },
    "vscode": {
     "languageId": "r"
    }
   },
   "outputs": [],
   "source": []
  },
  {
   "cell_type": "markdown",
   "metadata": {
    "nbgrader": {
     "cell_type": "markdown",
     "checksum": "501781719fad600927935bc5ab03a4e5",
     "grade": false,
     "grade_id": "cell-9ee9f704dd1e2a22",
     "locked": true,
     "schema_version": 3,
     "solution": false,
     "task": false
    }
   },
   "source": [
    "**2.(c) Estimate $E[X^3]$ using Monte Carlo integration. How could you get a better estimate?**"
   ]
  },
  {
   "cell_type": "code",
   "execution_count": null,
   "metadata": {
    "nbgrader": {
     "cell_type": "code",
     "checksum": "f0ed6b1ddfe0042c7b3bb6ac6eb9929b",
     "grade": true,
     "grade_id": "cell-a97aa1b2b198e404",
     "locked": false,
     "points": 2,
     "schema_version": 3,
     "solution": true,
     "task": false
    },
    "vscode": {
     "languageId": "r"
    }
   },
   "outputs": [],
   "source": []
  },
  {
   "cell_type": "markdown",
   "metadata": {
    "nbgrader": {
     "cell_type": "markdown",
     "checksum": "2b59fafb14bfeaf927606030252b54c3",
     "grade": false,
     "grade_id": "cell-833cd507db801709",
     "locked": true,
     "schema_version": 3,
     "solution": false,
     "task": false
    }
   },
   "source": [
    "## Problem #3\n",
    "\n",
    "In class, we emphasized that variables can be uncorrelated but dependent. Let's look at an example of this.\n",
    "\n",
    "**3.(a) Generate $n = 5000$ random variables from a $U(-1,1)$ distribution. Store these values in `x`. Then, create a variable `y` such that $y = x^2$. Plot `x` and `y` and compute the (sample) correlation coefficient using `cor()`. What do you notice?**"
   ]
  },
  {
   "cell_type": "code",
   "execution_count": null,
   "metadata": {
    "nbgrader": {
     "cell_type": "code",
     "checksum": "7aceea4c208ac1e2473a4d3a64a990ad",
     "grade": true,
     "grade_id": "cell-186e43ab4551a21b",
     "locked": false,
     "points": 0,
     "schema_version": 3,
     "solution": true,
     "task": false
    },
    "vscode": {
     "languageId": "r"
    }
   },
   "outputs": [],
   "source": []
  },
  {
   "cell_type": "markdown",
   "metadata": {
    "nbgrader": {
     "cell_type": "markdown",
     "checksum": "68cde6c37fe314343a88bae4e03fd4b2",
     "grade": false,
     "grade_id": "cell-aadb59191727ae1e",
     "locked": true,
     "schema_version": 3,
     "solution": false,
     "task": false
    }
   },
   "source": [
    "**3.(b) Now add various degrees of \"noise\" to `y`, by adding random normal numbers to the `y` equation. Use `rnorm(n,0,b)`, where `b` is set to values like `0.01`, `0.1`, and `1`. What do you notice about the plot and corresponding correlation coefficient?**"
   ]
  },
  {
   "cell_type": "code",
   "execution_count": null,
   "metadata": {
    "nbgrader": {
     "cell_type": "code",
     "checksum": "ab681610643b7cac6cfe508e860d2909",
     "grade": true,
     "grade_id": "cell-0496972f3200ce25",
     "locked": false,
     "points": 0,
     "schema_version": 3,
     "solution": true,
     "task": false
    },
    "vscode": {
     "languageId": "r"
    }
   },
   "outputs": [],
   "source": []
  },
  {
   "cell_type": "code",
   "execution_count": null,
   "metadata": {
    "nbgrader": {
     "cell_type": "code",
     "checksum": "9f556b4326b3666cb3791ed1cd5d50de",
     "grade": true,
     "grade_id": "cell-506be8983beafca1",
     "locked": false,
     "points": 0,
     "schema_version": 3,
     "solution": true,
     "task": false
    },
    "vscode": {
     "languageId": "r"
    }
   },
   "outputs": [],
   "source": []
  },
  {
   "cell_type": "code",
   "execution_count": null,
   "metadata": {
    "nbgrader": {
     "cell_type": "code",
     "checksum": "9da4aa02ba785f12863945d85d5870e7",
     "grade": true,
     "grade_id": "cell-d6bf93abc7fc6c26",
     "locked": false,
     "points": 0,
     "schema_version": 3,
     "solution": true,
     "task": false
    },
    "vscode": {
     "languageId": "r"
    }
   },
   "outputs": [],
   "source": []
  },
  {
   "cell_type": "markdown",
   "metadata": {},
   "source": []
  }
 ],
 "metadata": {
  "kernelspec": {
   "display_name": "R",
   "language": "R",
   "name": "ir"
  },
  "language_info": {
   "codemirror_mode": "r",
   "file_extension": ".r",
   "mimetype": "text/x-r-source",
   "name": "R",
   "pygments_lexer": "r",
   "version": "3.6.1"
  }
 },
 "nbformat": 4,
 "nbformat_minor": 2
}
