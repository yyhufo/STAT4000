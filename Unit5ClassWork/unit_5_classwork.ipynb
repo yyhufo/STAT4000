{
 "cells": [
  {
   "cell_type": "markdown",
   "metadata": {
    "nbgrader": {
     "cell_type": "markdown",
     "checksum": "96397c7d4e3c38921ed0a14d2821b659",
     "grade": false,
     "grade_id": "cell-eeea60546af01e26",
     "locked": true,
     "schema_version": 3,
     "solution": false,
     "task": false
    }
   },
   "source": [
    "# Unit 5 Classwork\n",
    "\n",
    "The goals of this assignment are to help you (1) use numerical simulation to analyze and interpret important statistical inference quantities, (2) calculate probabilities using `R`, and (3) estimate probabilities and other quantities through numerical (computer) simulation. Such simulations can be useful. We can use simulations to help confirm that we've calculated a probability \"by hand\" correctly, or to estimate other quantities, like areas/integrals.\n"
   ]
  },
  {
   "cell_type": "markdown",
   "metadata": {
    "nbgrader": {
     "cell_type": "markdown",
     "checksum": "396cf7927293b117286f9154f615238c",
     "grade": false,
     "grade_id": "cell-302c8d9b770b558b",
     "locked": true,
     "schema_version": 3,
     "solution": false,
     "task": false
    }
   },
   "source": [
    "## Problem #1\n",
    "\n",
    "Let $\\widehat{\\theta}$ be an estimator of the parameter $\\theta$ (e.g., we might think of $\\widehat{\\theta} = \\bar{X}$ and $\\theta = \\mu$, where $\\mu$ is a population mean). We say that $\\widehat{\\theta}$ is *unbiased* if $E(\\widehat{\\theta}) = \\theta$.\n",
    "\n",
    "**1.(a) Let $X_1,...,X_n \\stackrel{iid}\\sim \\text{Pois}(\\lambda).$ Find an unbiased estimator for $\\lambda$.**"
   ]
  },
  {
   "cell_type": "markdown",
   "metadata": {
    "nbgrader": {
     "cell_type": "markdown",
     "checksum": "7c982ce01162814cd6811b044dbbdef7",
     "grade": true,
     "grade_id": "cell-fdf4a771a183fd57",
     "locked": false,
     "points": 1,
     "schema_version": 3,
     "solution": true,
     "task": false
    }
   },
   "source": [
    "YOUR ANSWER HERE"
   ]
  },
  {
   "cell_type": "markdown",
   "metadata": {
    "nbgrader": {
     "cell_type": "markdown",
     "checksum": "9e93997e222ba9102936bade4588c469",
     "grade": false,
     "grade_id": "cell-baaaa50fc257855f",
     "locked": true,
     "schema_version": 3,
     "solution": false,
     "task": false
    }
   },
   "source": [
    "**1.(b) Let $X_1,...,X_n \\stackrel{iid}\\sim \\text{Exp}(\\lambda).$ Find the maximum likelihood estimator (MLE) for $\\lambda$.**"
   ]
  },
  {
   "cell_type": "markdown",
   "metadata": {
    "nbgrader": {
     "cell_type": "markdown",
     "checksum": "89a4a51b7fde0f2a52edf86f3c18cbb1",
     "grade": true,
     "grade_id": "cell-1a50e82dc3941461",
     "locked": false,
     "points": 1,
     "schema_version": 3,
     "solution": true,
     "task": false
    }
   },
   "source": [
    "YOUR ANSWER HERE"
   ]
  },
  {
   "cell_type": "markdown",
   "metadata": {
    "nbgrader": {
     "cell_type": "markdown",
     "checksum": "e871dfbd555252ad8e0934742f8f1d41",
     "grade": false,
     "grade_id": "cell-58c046df5d131fc7",
     "locked": true,
     "schema_version": 3,
     "solution": false,
     "task": false
    }
   },
   "source": [
    "## Problem #2\n",
    "\n",
    "Let $X_1,...,X_n$ be an i.i.d. sample from a population with mean $\\mu$ and variance $\\sigma^2$.\n",
    "\n",
    "**2.(a)   Show that $ S^2 = \\frac{1}{n-1}\\sum^n_{i=1}(X_i - \\bar{X})^2$ is an unbiased estimator of $\\sigma^2$. This answers the question of why we divide by $n-1$ in $S^2$!**"
   ]
  },
  {
   "cell_type": "markdown",
   "metadata": {},
   "source": []
  },
  {
   "cell_type": "markdown",
   "metadata": {
    "nbgrader": {
     "cell_type": "markdown",
     "checksum": "2e9b478590b3aff4a60b913a1efd5903",
     "grade": false,
     "grade_id": "cell-3550691894f61c5e",
     "locked": true,
     "schema_version": 3,
     "solution": false,
     "task": false
    }
   },
   "source": [
    "**2.(b)Assume that $E\\left[ \\sqrt{X} \\right] < \\sqrt{E(X)}$. Show that $S$ is a *biased* estimator of $\\sigma$.**"
   ]
  },
  {
   "cell_type": "markdown",
   "metadata": {
    "nbgrader": {
     "cell_type": "markdown",
     "checksum": "e996de0e5af3b5f288646603a8cbe58b",
     "grade": true,
     "grade_id": "cell-8aa257f1a03f81c7",
     "locked": false,
     "points": 0,
     "schema_version": 3,
     "solution": true,
     "task": false
    }
   },
   "source": [
    "YOUR ANSWER HERE"
   ]
  },
  {
   "cell_type": "markdown",
   "metadata": {
    "nbgrader": {
     "cell_type": "markdown",
     "checksum": "1295cdbf5a85f945ac5dd87b62177c6b",
     "grade": false,
     "grade_id": "cell-5c63e079d64781a0",
     "locked": true,
     "schema_version": 3,
     "solution": false,
     "task": false
    }
   },
   "source": [
    "**2.(c) Use simulations to provide some evidence that $S$ is biased. Specifically:**\n",
    "\n",
    "1. Generate `m = 500` different samples of size `n = 5` from $\\text{Exp}(\\lambda = 1)$.\n",
    "2. Calculate $S$ for each sample.\n",
    "3. What is the mean of the distribution of $S$? \n",
    "4. Creat a histogram of the distribution of $S$. Comment on the distribution. How does this provide evidence that $S$ is biased?\n"
   ]
  },
  {
   "cell_type": "code",
   "execution_count": null,
   "metadata": {
    "nbgrader": {
     "cell_type": "code",
     "checksum": "991334f7628ea35549a5ba3434247783",
     "grade": true,
     "grade_id": "cell-7b73df163fa38eea",
     "locked": false,
     "points": 0,
     "schema_version": 3,
     "solution": true,
     "task": false
    }
   },
   "outputs": [],
   "source": [
    "#YOUR CODE HERE\n",
    "fail() # No Answer - remove if you provide an answer"
   ]
  },
  {
   "cell_type": "markdown",
   "metadata": {
    "nbgrader": {
     "cell_type": "markdown",
     "checksum": "dad6766b5b4dfd18bb378827fe3e9afc",
     "grade": true,
     "grade_id": "cell-9a39c93cf0dfc396",
     "locked": false,
     "points": 1,
     "schema_version": 3,
     "solution": true,
     "task": false
    }
   },
   "source": [
    "YOUR ANSWER HERE"
   ]
  },
  {
   "cell_type": "markdown",
   "metadata": {
    "nbgrader": {
     "cell_type": "markdown",
     "checksum": "4276e7c01479d571b71debcd59bf2320",
     "grade": false,
     "grade_id": "cell-b851a6408303d693",
     "locked": true,
     "schema_version": 3,
     "solution": false,
     "task": false
    }
   },
   "source": [
    "**2.(d) Repeat the process described in (e) for $S^2$. What do you notice?**"
   ]
  },
  {
   "cell_type": "code",
   "execution_count": null,
   "metadata": {
    "nbgrader": {
     "cell_type": "code",
     "checksum": "4aec15baa591b0a694f54e703da396a8",
     "grade": true,
     "grade_id": "cell-e226860ce717176a",
     "locked": false,
     "points": 1,
     "schema_version": 3,
     "solution": true,
     "task": false
    }
   },
   "outputs": [],
   "source": [
    "#YOUR CODE HERE\n",
    "fail() # No Answer - remove if you provide an answer"
   ]
  },
  {
   "cell_type": "markdown",
   "metadata": {
    "nbgrader": {
     "cell_type": "markdown",
     "checksum": "ca620bf3aae765eefa49d141cfb62c54",
     "grade": true,
     "grade_id": "cell-416b0a5c5227bd5f",
     "locked": false,
     "points": 1,
     "schema_version": 3,
     "solution": true,
     "task": false
    }
   },
   "source": [
    "YOUR ANSWER HERE"
   ]
  },
  {
   "cell_type": "markdown",
   "metadata": {
    "nbgrader": {
     "cell_type": "markdown",
     "checksum": "a1c944d7d6d2d34e2eabec9de227aba4",
     "grade": false,
     "grade_id": "cell-41b4d9f3a1078848",
     "locked": true,
     "schema_version": 3,
     "solution": false,
     "task": false
    }
   },
   "source": [
    "## Problem #3\n",
    "\n",
    "A response time is normally distributed with standard deviation of 25 milliseconds. A new system has been installed, and we wish to estimate the true average response time, $\\mu$, for the new environment. \n",
    "\n",
    "**Assuming that the response times are still normally distributed with $\\sigma = 25$, what sample size is necessary to ensure that the resulting $95\\%$ confidence has a width of (at most) $10$?**"
   ]
  },
  {
   "cell_type": "code",
   "execution_count": null,
   "metadata": {
    "nbgrader": {
     "cell_type": "code",
     "checksum": "5bcf20fb72cedafe052da73c16c665d8",
     "grade": true,
     "grade_id": "cell-5f1d6a451180ed51",
     "locked": false,
     "points": 0,
     "schema_version": 3,
     "solution": true,
     "task": false
    }
   },
   "outputs": [],
   "source": [
    "#YOUR CODE HERE\n",
    "fail() # No Answer - remove if you provide an answer"
   ]
  },
  {
   "cell_type": "markdown",
   "metadata": {
    "nbgrader": {
     "cell_type": "markdown",
     "checksum": "359e369d43f9d22bd73625199254314f",
     "grade": false,
     "grade_id": "cell-163f9d2795e368c1",
     "locked": true,
     "schema_version": 3,
     "solution": false,
     "task": false
    }
   },
   "source": [
    "## Problem #4\n",
    "\n",
    "The dataset contained in the file `winequality-red.csv` is related to a red Portuguese \"Vinho Verde\" wine. Make sure you download it from Canvas, and load it with the following code:"
   ]
  },
  {
   "cell_type": "code",
   "execution_count": null,
   "metadata": {
    "nbgrader": {
     "cell_type": "code",
     "checksum": "619d70c708fe24e3792f03482ee146fa",
     "grade": false,
     "grade_id": "cell-451a8e22be3168c7",
     "locked": true,
     "schema_version": 3,
     "solution": false,
     "task": false
    }
   },
   "outputs": [],
   "source": [
    "wine = read.table(\"winequality-red.csv\", header = TRUE)\n",
    "head(wine)"
   ]
  },
  {
   "cell_type": "markdown",
   "metadata": {
    "nbgrader": {
     "cell_type": "markdown",
     "checksum": "040ba2b1246f377cf0c7ccf47e38f89e",
     "grade": false,
     "grade_id": "cell-c0c44ac200e9e471",
     "locked": true,
     "schema_version": 3,
     "solution": false,
     "task": false
    }
   },
   "source": [
    "**Calculate a 90% confidence interval for the mean $\\text{pH}$ level.**"
   ]
  },
  {
   "cell_type": "code",
   "execution_count": null,
   "metadata": {
    "nbgrader": {
     "cell_type": "code",
     "checksum": "a685c771e9a6dd4bae2b2a76e8387789",
     "grade": true,
     "grade_id": "cell-ca4d3c763ea36699",
     "locked": false,
     "points": 1,
     "schema_version": 3,
     "solution": true,
     "task": false
    }
   },
   "outputs": [],
   "source": [
    "#YOUR CODE HERE\n",
    "fail() # No Answer - remove if you provide an answer"
   ]
  },
  {
   "cell_type": "markdown",
   "metadata": {
    "nbgrader": {
     "cell_type": "markdown",
     "checksum": "d9d9970d08c7bfe5ff164445985c7adc",
     "grade": false,
     "grade_id": "cell-067a60a42464ac8b",
     "locked": true,
     "schema_version": 3,
     "solution": false,
     "task": false
    }
   },
   "source": [
    "## Problem #5\n",
    "\n",
    "In this example, we will construct a simulation to verify the “coverage properties” of a confidence interval for the mean of a normal distribution.\n",
    "\n",
    "**5.(a) Simulate a matrix with `m = 1000` rows and `n = 100` columns, where each entry is a random number from the population model $N(0, 1)$. Interpret each row as a sample from the population.**\n"
   ]
  },
  {
   "cell_type": "code",
   "execution_count": null,
   "metadata": {
    "nbgrader": {
     "cell_type": "code",
     "checksum": "c66c06385ef82af5fe53462c114da59c",
     "grade": true,
     "grade_id": "cell-de64b39e3681ff07",
     "locked": false,
     "points": 0,
     "schema_version": 3,
     "solution": true,
     "task": false
    }
   },
   "outputs": [],
   "source": [
    "#YOUR CODE HERE\n",
    "fail() # No Answer - remove if you provide an answer"
   ]
  },
  {
   "cell_type": "markdown",
   "metadata": {
    "nbgrader": {
     "cell_type": "markdown",
     "checksum": "9e276a753436ea161eab19a5d7370341",
     "grade": false,
     "grade_id": "cell-a0b5ef96a6a0310f",
     "locked": true,
     "schema_version": 3,
     "solution": false,
     "task": false
    }
   },
   "source": [
    "**5.(b) Suppose that we didn’t know the population mean, $\\mu$, but wanted to estimate it using a confidence interval. For each sample, calculate the $95\\%$ confidence for the mean, $\\mu$. Assume $\\sigma = 1$ is known.**"
   ]
  },
  {
   "cell_type": "code",
   "execution_count": null,
   "metadata": {
    "nbgrader": {
     "cell_type": "code",
     "checksum": "a57779b4c51baf1b3f1be35484bce606",
     "grade": true,
     "grade_id": "cell-6bbe19bb24ae3242",
     "locked": false,
     "points": 0,
     "schema_version": 3,
     "solution": true,
     "task": false
    }
   },
   "outputs": [],
   "source": [
    "#YOUR CODE HERE\n",
    "fail() # No Answer - remove if you provide an answer"
   ]
  },
  {
   "cell_type": "markdown",
   "metadata": {
    "nbgrader": {
     "cell_type": "markdown",
     "checksum": "0a71eb04646ad2e9439c748faf6968d0",
     "grade": false,
     "grade_id": "cell-f89ea0c22453a605",
     "locked": true,
     "schema_version": 3,
     "solution": false,
     "task": false
    }
   },
   "source": [
    "**5.(c) Why would we use a confidence interval instead of just reporting the sample mean $\\bar{x}$?**"
   ]
  },
  {
   "cell_type": "markdown",
   "metadata": {
    "collapsed": true,
    "nbgrader": {
     "cell_type": "markdown",
     "checksum": "ee8af534a1f6be74368a248d85839dec",
     "grade": true,
     "grade_id": "cell-a1fc368f7b7ac8c1",
     "locked": false,
     "points": 1,
     "schema_version": 3,
     "solution": true,
     "task": false
    }
   },
   "source": [
    "YOUR ANSWER HERE"
   ]
  },
  {
   "cell_type": "markdown",
   "metadata": {
    "nbgrader": {
     "cell_type": "markdown",
     "checksum": "1ac7e947365b3d55b850a3af51887f68",
     "grade": false,
     "grade_id": "cell-c6c66370afd224d7",
     "locked": true,
     "schema_version": 3,
     "solution": false,
     "task": false
    }
   },
   "source": [
    "**5.(d) Print and interpret the confidence interval for the first sample (i.e., when `m = 1`).**"
   ]
  },
  {
   "cell_type": "code",
   "execution_count": null,
   "metadata": {
    "nbgrader": {
     "cell_type": "code",
     "checksum": "4ae7fe5593d4d80f98b92bea9c455196",
     "grade": true,
     "grade_id": "cell-15f2c805d38b7b2c",
     "locked": false,
     "points": 1,
     "schema_version": 3,
     "solution": true,
     "task": false
    }
   },
   "outputs": [],
   "source": [
    "#YOUR CODE HERE\n",
    "fail() # No Answer - remove if you provide an answer"
   ]
  },
  {
   "cell_type": "markdown",
   "metadata": {
    "collapsed": true,
    "nbgrader": {
     "cell_type": "markdown",
     "checksum": "4f9f1f82de727dec2fcc4eb923742da4",
     "grade": true,
     "grade_id": "cell-674b187e0984d4cc",
     "locked": false,
     "points": 1,
     "schema_version": 3,
     "solution": true,
     "task": false
    }
   },
   "source": [
    "YOUR ANSWER HERE"
   ]
  },
  {
   "cell_type": "markdown",
   "metadata": {
    "nbgrader": {
     "cell_type": "markdown",
     "checksum": "6920e2fe8f88f6c3022178941e674259",
     "grade": false,
     "grade_id": "cell-d9e31483b1cd1be4",
     "locked": true,
     "schema_version": 3,
     "solution": false,
     "task": false
    }
   },
   "source": [
    "**5.(e) Justify why, in part (b), you can use critical values from the normal distribution instead of critical values from the $t$ distribution.**"
   ]
  },
  {
   "cell_type": "markdown",
   "metadata": {
    "collapsed": true,
    "nbgrader": {
     "cell_type": "markdown",
     "checksum": "247fc2959ac2fabfe4c4c65a0d0c5ce0",
     "grade": true,
     "grade_id": "cell-fdb9b8b212dd16f8",
     "locked": false,
     "points": 1,
     "schema_version": 3,
     "solution": true,
     "task": false
    }
   },
   "source": [
    "YOUR ANSWER HERE"
   ]
  },
  {
   "cell_type": "markdown",
   "metadata": {
    "nbgrader": {
     "cell_type": "markdown",
     "checksum": "2493f3c7ec90dfa51a50817eea13dc9f",
     "grade": false,
     "grade_id": "cell-c82d943fab39df15",
     "locked": true,
     "schema_version": 3,
     "solution": false,
     "task": false
    }
   },
   "source": [
    "**5.(f) Calculate the proportion of confidence intervals that cover the true $\\mu$. Does it match what theory suggests? If it deviates from what theory suggests, explain why.**"
   ]
  },
  {
   "cell_type": "code",
   "execution_count": null,
   "metadata": {
    "nbgrader": {
     "cell_type": "code",
     "checksum": "5200e508ef07e6eae62d3e879ef577f9",
     "grade": true,
     "grade_id": "cell-b5cb5c70a6f28d30",
     "locked": false,
     "points": 1,
     "schema_version": 3,
     "solution": true,
     "task": false
    }
   },
   "outputs": [],
   "source": [
    "#YOUR CODE HERE\n",
    "fail() # No Answer - remove if you provide an answer"
   ]
  }
 ],
 "metadata": {
  "kernelspec": {
   "display_name": "R",
   "language": "R",
   "name": "ir"
  },
  "language_info": {
   "codemirror_mode": "r",
   "file_extension": ".r",
   "mimetype": "text/x-r-source",
   "name": "R",
   "pygments_lexer": "r",
   "version": "3.6.1"
  }
 },
 "nbformat": 4,
 "nbformat_minor": 2
}
