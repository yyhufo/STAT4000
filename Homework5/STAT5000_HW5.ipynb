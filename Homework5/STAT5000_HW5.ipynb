{
 "cells": [
  {
   "cell_type": "markdown",
   "metadata": {
    "nbgrader": {
     "cell_type": "markdown",
     "checksum": "32ea290cf5b0fb34caced0582e29e1f1",
     "grade": false,
     "grade_id": "cell-028a6aaacd367700",
     "locked": true,
     "schema_version": 3,
     "solution": false,
     "task": false
    }
   },
   "source": [
    "# Homework #5\n",
    "\n",
    "**See Canvas for the HW #5 assignment due date**. Complete all of the following problems. Ideally, the theoretical problems should be answered in a Markdown cell directly underneath the question. If you don't know LaTex/Markdown, you may submit separate handwritten solutions to the theoretical problems, but please see the class scanning policy in the syllabus. Please do not turn in messy work. Computational problems should be completed in this notebook (using the `R` kernel). Computational questions may require code, plots, analysis, interpretation, etc. Working in small groups is allowed, but it is important that you make an effort to master the material and hand in your own work. \n",
    "\n"
   ]
  },
  {
   "cell_type": "markdown",
   "metadata": {
    "id": "Vpxs_7xzuHD8",
    "nbgrader": {
     "cell_type": "markdown",
     "checksum": "889b7205d3b70ef0d561cf6199d4a771",
     "grade": false,
     "grade_id": "cell-690073cfc39a9520",
     "locked": true,
     "schema_version": 3,
     "solution": false,
     "task": false
    }
   },
   "source": [
    "## A. Theoretical Problems"
   ]
  },
  {
   "cell_type": "markdown",
   "metadata": {
    "nbgrader": {
     "cell_type": "markdown",
     "checksum": "97d36c1bdc8ec2d679e67f8c9d826c66",
     "grade": false,
     "grade_id": "cell-c604829fef954d7d",
     "locked": true,
     "schema_version": 3,
     "solution": false,
     "task": false
    }
   },
   "source": [
    "## A.1 [6 points] \n",
    "Unfortunately, the expected value of a random variable may not be defined. For example, if $\\theta$ is an angle uniformly distributed in the interval $(-\\pi/2,\\pi/2)$, then\n",
    "$X=\\alpha\\tan(\\theta)$ has the following distribution:\n",
    "\n",
    "$$ f(x)=\\frac{\\alpha}{\\pi}\\frac{1}{x^2+\\alpha^2}, $$\n",
    "\n",
    "where $\\alpha > 0$ is a constant to ensure that $\\int_{-\\infty}^\\infty f(x) \\, dx = 1$. Show that $E(X)$ is undefined (HINT: compute $E(X)$ using a u-substitution and show that the integral does not converge)."
   ]
  },
  {
   "cell_type": "markdown",
   "metadata": {
    "nbgrader": {
     "cell_type": "markdown",
     "checksum": "3481aeca29d0c05c2e1317a8d6f96f0a",
     "grade": true,
     "grade_id": "cell-92b3a79bb6b027b6",
     "locked": false,
     "points": 6,
     "schema_version": 3,
     "solution": true,
     "task": false
    }
   },
   "source": []
  },
  {
   "cell_type": "markdown",
   "metadata": {
    "nbgrader": {
     "cell_type": "markdown",
     "checksum": "188af4acf11af3f65425690878bdc3ac",
     "grade": false,
     "grade_id": "cell-7dc3cc004243ef00",
     "locked": true,
     "schema_version": 3,
     "solution": false,
     "task": false
    }
   },
   "source": [
    "## A.2 Properties of expectation\n",
    "Let $X$ be a random variable such that \n",
    "- $E[X]=5$\n",
    "- $sd[X]=2.5$\n",
    "\n",
    "and let $Y$ be a random variable such that \n",
    "- $E[Y]=8$, \n",
    "- $sd[Y]=2$. \n",
    "\n",
    "Also, suppose that $X$ and $Y$ are not independent. In fact, $\\text{Corr} [X,Y]=0.8$. \n",
    "\n",
    "**Compute the following.**\n",
    "\n",
    "**A.2(a) [3 points] $E[4X+3Y+1]$**"
   ]
  },
  {
   "cell_type": "markdown",
   "metadata": {
    "nbgrader": {
     "cell_type": "markdown",
     "checksum": "ead907044170eae257b4c8e3ca6b0ff4",
     "grade": true,
     "grade_id": "cell-7c84cdaaafb26241",
     "locked": false,
     "points": 3,
     "schema_version": 3,
     "solution": true,
     "task": false
    }
   },
   "source": []
  },
  {
   "cell_type": "markdown",
   "metadata": {
    "nbgrader": {
     "cell_type": "markdown",
     "checksum": "c77719375f2d069e56bf2c8bf547b591",
     "grade": false,
     "grade_id": "cell-af94a2640143e04d",
     "locked": true,
     "schema_version": 3,
     "solution": false,
     "task": false
    }
   },
   "source": [
    "**A.2(b) [6 points] $sd[4X+2Y+2]$**\n",
    "\n"
   ]
  },
  {
   "cell_type": "markdown",
   "metadata": {
    "nbgrader": {
     "cell_type": "markdown",
     "checksum": "b50f9bba5fd96a07346b147d31c0c466",
     "grade": true,
     "grade_id": "cell-a01a905c3343dab6",
     "locked": false,
     "points": 6,
     "schema_version": 3,
     "solution": true,
     "task": false
    }
   },
   "source": []
  },
  {
   "cell_type": "markdown",
   "metadata": {
    "nbgrader": {
     "cell_type": "markdown",
     "checksum": "fcc5633857c20d0df2b5d333f07e9d63",
     "grade": false,
     "grade_id": "cell-3227d44a464a8bb3",
     "locked": true,
     "schema_version": 3,
     "solution": false,
     "task": false
    }
   },
   "source": [
    "**A.2(c) [4 points] $E[3X^2 + Y]$** (*hint: think about the shortcut formula for variance.*)"
   ]
  },
  {
   "cell_type": "markdown",
   "metadata": {
    "nbgrader": {
     "cell_type": "markdown",
     "checksum": "11a53df45bcc9f92d73393250657024f",
     "grade": true,
     "grade_id": "cell-16f3ff92f9a72a97",
     "locked": false,
     "points": 4,
     "schema_version": 3,
     "solution": true,
     "task": false
    }
   },
   "source": []
  },
  {
   "cell_type": "markdown",
   "metadata": {
    "nbgrader": {
     "cell_type": "markdown",
     "checksum": "54cf440ac2e618dd0bc6503759984e20",
     "grade": false,
     "grade_id": "cell-5361b49959c3d36f",
     "locked": true,
     "schema_version": 3,
     "solution": false,
     "task": false
    }
   },
   "source": [
    "**A.2(d) [4 points] $E[8XY]$**"
   ]
  },
  {
   "cell_type": "markdown",
   "metadata": {
    "nbgrader": {
     "cell_type": "markdown",
     "checksum": "c2de7240b7a08d847d164a88c757b563",
     "grade": true,
     "grade_id": "cell-087358eff8bfb550",
     "locked": false,
     "points": 4,
     "schema_version": 3,
     "solution": true,
     "task": false
    }
   },
   "source": []
  },
  {
   "cell_type": "markdown",
   "metadata": {
    "collapsed": true,
    "nbgrader": {
     "cell_type": "markdown",
     "checksum": "578928ad7da0477fc4b1db92a2793995",
     "grade": false,
     "grade_id": "cell-877ec30f21ddaaaf",
     "locked": true,
     "schema_version": 3,
     "solution": false,
     "task": false
    }
   },
   "source": [
    "## A.3 [4 points] Covariance and independence\n",
    "\n",
    "**In class, we introduced covariance and the correlation coefficient to measure how strongly two random variables are related to each other. We know that two dependent random variables can be uncorrelated, but it turns out that if $X$ and $Y$ are independent random variables, then they are uncorrelated: $\\text{Corr}[X, Y] = \\text{Cov}[X, Y] = 0$.**\n",
    "\n",
    "**Suppose that X and Y are independent random variables. Prove that $E[XY] = E[X]E[Y]$.**"
   ]
  },
  {
   "cell_type": "markdown",
   "metadata": {
    "nbgrader": {
     "cell_type": "markdown",
     "checksum": "c99b4b3b7fe5f15d8d097bc629646005",
     "grade": true,
     "grade_id": "cell-5e2c5f9d0d44bcc8",
     "locked": false,
     "points": 4,
     "schema_version": 3,
     "solution": true,
     "task": false
    }
   },
   "source": []
  },
  {
   "cell_type": "markdown",
   "metadata": {
    "nbgrader": {
     "cell_type": "markdown",
     "checksum": "257b5cefd7212bb2b8bd16036c4bd396",
     "grade": false,
     "grade_id": "cell-096f9fb7bb7bb74b",
     "locked": true,
     "schema_version": 3,
     "solution": false,
     "task": false
    }
   },
   "source": [
    "## A.4 Properties of $\\bar{X}$\n",
    "\n",
    "Let $ X_{1},X_{2},...,X_{n} \\overset{iid}{\\sim} N( \\mu , \\sigma^{2})$, where the notation $\\overset{iid}{\\sim}$ means *independent and identically distributed*.\n",
    "\n",
    "**A.4(a) [4 points] Show (without integration), that $sd[\\bar{X}] = \\frac{\\sigma}{\\sqrt{n}}$**\n"
   ]
  },
  {
   "cell_type": "markdown",
   "metadata": {
    "nbgrader": {
     "cell_type": "markdown",
     "checksum": "662a77e97e7c138911bdb206fd00a6a3",
     "grade": true,
     "grade_id": "cell-5d7207297095ca17",
     "locked": false,
     "points": 4,
     "schema_version": 3,
     "solution": true,
     "task": false
    }
   },
   "source": []
  },
  {
   "cell_type": "markdown",
   "metadata": {
    "nbgrader": {
     "cell_type": "markdown",
     "checksum": "c9e34d98886e9c5812dbdd3d65250370",
     "grade": false,
     "grade_id": "cell-6d8035ac9255cf8a",
     "locked": true,
     "schema_version": 3,
     "solution": false,
     "task": false
    }
   },
   "source": [
    "**A.4(b) [5 points] Show that $\\displaystyle\\bar{X} = \\mu + \\frac{\\sigma}{\\sqrt{n}}Z$ where $Z \\sim N(0,1)$.**"
   ]
  },
  {
   "cell_type": "markdown",
   "metadata": {
    "nbgrader": {
     "cell_type": "markdown",
     "checksum": "90c6e9a63144c1fbb649e3dee76b263b",
     "grade": true,
     "grade_id": "cell-417147d5891dd262",
     "locked": false,
     "points": 5,
     "schema_version": 3,
     "solution": true,
     "task": false
    }
   },
   "source": []
  },
  {
   "cell_type": "markdown",
   "metadata": {
    "nbgrader": {
     "cell_type": "markdown",
     "checksum": "04b72fae3cfe607af5d74653e757b4a1",
     "grade": false,
     "grade_id": "cell-9ef1dcf91369a05a",
     "locked": true,
     "schema_version": 3,
     "solution": false,
     "task": false
    }
   },
   "source": [
    "**A.4.(c) [7 points] Use A.4(b) to find $\\displaystyle Var[\\bar{X}^{2}]$. Assume that $Cov[Z, Z^2] = 0$, and that $\\text{Var}[Z^2]  = 2$ (you don't have to prove these facts).**"
   ]
  },
  {
   "cell_type": "markdown",
   "metadata": {
    "nbgrader": {
     "cell_type": "markdown",
     "checksum": "e51269d8b271ef9377e7ef3929565dc3",
     "grade": true,
     "grade_id": "cell-92828b41703c875c",
     "locked": false,
     "points": 7,
     "schema_version": 3,
     "solution": true,
     "task": false
    }
   },
   "source": []
  },
  {
   "cell_type": "markdown",
   "metadata": {
    "nbgrader": {
     "cell_type": "markdown",
     "checksum": "e3380ba9cd54f49aedbd20a969ff4a41",
     "grade": false,
     "grade_id": "cell-102731e6d4a97159",
     "locked": true,
     "schema_version": 3,
     "solution": false,
     "task": false
    }
   },
   "source": [
    "## A.5 Let's go bowling\n",
    "\n",
    "Frank and Sue are bowling partners, but they have different skill levels. In particular,\n",
    "\n",
    "- Frank’s scores are normally distributed with a mean of $\\mu_{F} = 110$ and a variance of $\\sigma_{F}^{2} = 75$\n",
    "\n",
    "- Sue’s scores are normally distributed with a mean of $\\mu_{S} = 140$ and a variance of $ \\sigma_{S}^{2} = 60$\n",
    "\n",
    "\n",
    "Let $X_{F}$ be the random variable that denotes Frank’s score in a game, and $X_{S}$ the random variable that denotes Sue’s score. Answer the questions below.\n",
    "\n",
    "**A.5(a) [6 points] What is the distribution of $\\bar{X}$ , the average of the two bowling scores? (Name the distribution and compute any parameters of the distribution; you may have an unknown covariance value in one of the parameters.)**\n",
    "\n"
   ]
  },
  {
   "cell_type": "markdown",
   "metadata": {
    "collapsed": true,
    "nbgrader": {
     "cell_type": "markdown",
     "checksum": "242463efd96e80e0733a717d0cb2fb58",
     "grade": true,
     "grade_id": "cell-a00c3f0385989df9",
     "locked": false,
     "points": 6,
     "schema_version": 3,
     "solution": true,
     "task": false
    }
   },
   "source": []
  },
  {
   "cell_type": "markdown",
   "metadata": {
    "nbgrader": {
     "cell_type": "markdown",
     "checksum": "f91209a4695cb309f4f89788382b9949",
     "grade": false,
     "grade_id": "cell-4b97a13d6ced47ed",
     "locked": true,
     "schema_version": 3,
     "solution": false,
     "task": false
    }
   },
   "source": [
    "**A.5(b) [3 points] Based on the information you have at this point, can we say that $Var[\\bar{X}]=\\frac{\\sigma_{F}^{2}+\\sigma_{S}^{2}}{4}$? Justify your answer.**\n",
    "\n"
   ]
  },
  {
   "cell_type": "markdown",
   "metadata": {
    "nbgrader": {
     "cell_type": "markdown",
     "checksum": "1bf7afc630cf76a4fa359a842ee60b35",
     "grade": true,
     "grade_id": "cell-4acc8b0f67ff1723",
     "locked": false,
     "points": 3,
     "schema_version": 3,
     "solution": true,
     "task": false
    }
   },
   "source": []
  },
  {
   "cell_type": "markdown",
   "metadata": {
    "nbgrader": {
     "cell_type": "markdown",
     "checksum": "b4bb1b18983dfbb35b34ab09eadd0ef9",
     "grade": false,
     "grade_id": "cell-2734a645c7c20e46",
     "locked": true,
     "schema_version": 3,
     "solution": false,
     "task": false
    }
   },
   "source": [
    "**A.5(c) [5 points] Assume that Frank and Ellen’s scores are independent. What is the probability that the sample average score of the group will be between $120$ and $140$ points?**\n",
    "\n"
   ]
  },
  {
   "cell_type": "markdown",
   "metadata": {
    "nbgrader": {
     "cell_type": "markdown",
     "checksum": "56a0d68ee5a86f4701de825d1a6d59d3",
     "grade": true,
     "grade_id": "cell-c8cc57cada169783",
     "locked": false,
     "points": 5,
     "schema_version": 3,
     "solution": true,
     "task": false
    }
   },
   "source": []
  },
  {
   "cell_type": "code",
   "execution_count": null,
   "metadata": {},
   "outputs": [],
   "source": []
  },
  {
   "cell_type": "markdown",
   "metadata": {
    "nbgrader": {
     "cell_type": "markdown",
     "checksum": "3a6cc35eabbe8973ca90beeac08c6236",
     "grade": false,
     "grade_id": "cell-53a864d2929876e5",
     "locked": true,
     "schema_version": 3,
     "solution": false,
     "task": false
    }
   },
   "source": [
    "**A.5(d) [5 points] Assume that Frank and Ellen’s scores are independent. What is the probability that both players bowl a score less than $135$?**"
   ]
  },
  {
   "cell_type": "markdown",
   "metadata": {
    "nbgrader": {
     "cell_type": "markdown",
     "checksum": "65f03b3983b24e117fbaaa89f6d77785",
     "grade": true,
     "grade_id": "cell-d5ca531216375e8a",
     "locked": false,
     "points": 5,
     "schema_version": 3,
     "solution": true,
     "task": false
    }
   },
   "source": [
    "\\begin{align*}\n",
    "    P(X_F \\leq 135 \\text{ and } X_S \\leq 135) &= P(X_F \\leq 135) \\cdot P(X_S \\leq 135) \\\\\n",
    "    &\\approx 0.25879.\n",
    "\\end{align*}"
   ]
  },
  {
   "cell_type": "code",
   "execution_count": null,
   "metadata": {},
   "outputs": [],
   "source": []
  },
  {
   "cell_type": "markdown",
   "metadata": {
    "id": "Vpxs_7xzuHD8",
    "nbgrader": {
     "cell_type": "markdown",
     "checksum": "863bef8aad0ca2ae7c337ef66e89090d",
     "grade": false,
     "grade_id": "cell-9b5c20c493d92330",
     "locked": true,
     "schema_version": 3,
     "solution": false,
     "task": false
    }
   },
   "source": [
    "## B. Computational Problems"
   ]
  },
  {
   "cell_type": "markdown",
   "metadata": {
    "nbgrader": {
     "cell_type": "markdown",
     "checksum": "de4ad5e046f32b5d68dccc1a5bc32202",
     "grade": false,
     "grade_id": "cell-331812f97428b70f",
     "locked": true,
     "schema_version": 3,
     "solution": false,
     "task": false
    }
   },
   "source": [
    "## B.1\n",
    "\n",
    "Let $ X_{1},X_{2},...,X_{500} \\overset{iid}{\\sim} N( \\mu = 5 , \\sigma^{2} = 4)$.\n",
    "\n",
    "**B.1(a) [7 points] Construct a matrix `x` with $m = 10,000$ columns, where each column is a different sample (i.e., set of realizations) from $ X_{1},X_{2},...,X_{500}$. Then, use `colMeans()` to find the mean of each sample/column. Store these means in `xbar`. Based on lecture, what is the distribution of `xbar`? Is a histogram of `xbar` consistent with that?**"
   ]
  },
  {
   "cell_type": "code",
   "execution_count": null,
   "metadata": {
    "nbgrader": {
     "cell_type": "code",
     "checksum": "60150e03aae8a1ee6cd23d8366210724",
     "grade": true,
     "grade_id": "cell-f7864026226c2968",
     "locked": false,
     "points": 5,
     "schema_version": 3,
     "solution": true,
     "task": false
    }
   },
   "outputs": [],
   "source": []
  },
  {
   "cell_type": "markdown",
   "metadata": {
    "nbgrader": {
     "cell_type": "markdown",
     "checksum": "218c758faafb987c010b6ccf60e89a07",
     "grade": true,
     "grade_id": "cell-9910fccc4586f320",
     "locked": false,
     "points": 2,
     "schema_version": 3,
     "solution": true,
     "task": false
    }
   },
   "source": []
  },
  {
   "cell_type": "markdown",
   "metadata": {
    "nbgrader": {
     "cell_type": "markdown",
     "checksum": "f6ddd7b007c3e6a9d13cdfb08860fcd3",
     "grade": false,
     "grade_id": "cell-963561fc51c38e82",
     "locked": true,
     "schema_version": 3,
     "solution": false,
     "task": false
    }
   },
   "source": [
    "**B.1(b) [5 points] Numerically verify the results from A.4(a)-(c). For example, for A.4(a), show that the sample standard deviation of `xbar` is *close* to $\\mu$ (say within $\\approx0.1$ of the true value). How could you make `xbar` closer?**"
   ]
  },
  {
   "cell_type": "code",
   "execution_count": null,
   "metadata": {
    "nbgrader": {
     "cell_type": "code",
     "checksum": "26012f9a17283cb231359b6f779efece",
     "grade": true,
     "grade_id": "cell-2234e13758a4f65c",
     "locked": false,
     "points": 5,
     "schema_version": 3,
     "solution": true,
     "task": false
    }
   },
   "outputs": [],
   "source": []
  },
  {
   "cell_type": "markdown",
   "metadata": {
    "nbgrader": {
     "cell_type": "markdown",
     "checksum": "6f16a1c5de010291944d66189c7808c2",
     "grade": false,
     "grade_id": "cell-63c356dd90d4f5f7",
     "locked": true,
     "schema_version": 3,
     "solution": false,
     "task": false
    }
   },
   "source": [
    "## B. 2\n",
    "\n",
    "**B.2(a) [4 points] Generate three random vectors of length $n = 500$ from:**\n",
    "\n",
    "1. $X \\sim \\text{Beta}(3,1)$\n",
    "2. $Y \\sim \\text{Beta}(3,1)$\n",
    "3. $Z \\sim \\text{Beta}(2,3)$\n",
    "\n",
    "**Present numerical (using `cor()`) and visual evidence that $X$ and $Y$ are (effectively) uncorrelated.**"
   ]
  },
  {
   "cell_type": "code",
   "execution_count": null,
   "metadata": {
    "nbgrader": {
     "cell_type": "code",
     "checksum": "19c46d262e4229c380ddeaf6a53a9408",
     "grade": true,
     "grade_id": "cell-92974600437e95af",
     "locked": false,
     "points": 4,
     "schema_version": 3,
     "solution": true,
     "task": false
    }
   },
   "outputs": [],
   "source": []
  },
  {
   "cell_type": "markdown",
   "metadata": {
    "nbgrader": {
     "cell_type": "markdown",
     "checksum": "a61bb3274aca2bead8766fc091f55ae9",
     "grade": false,
     "grade_id": "cell-9342eaa0c7aad11d",
     "locked": true,
     "schema_version": 3,
     "solution": false,
     "task": false
    }
   },
   "source": [
    "**B.2(b) [4 points] Create vectors `xstar` and `ystar` by taking `x` and `y` and dividing by `z`.  Are `xstar` and `ystar` correlated? Support your claim with numerical and graphical evidence.**"
   ]
  },
  {
   "cell_type": "code",
   "execution_count": null,
   "metadata": {
    "nbgrader": {
     "cell_type": "code",
     "checksum": "336a314c7f58afbc0adcb3130abcd480",
     "grade": true,
     "grade_id": "cell-d65ffb71d79ba3a1",
     "locked": false,
     "points": 4,
     "schema_version": 3,
     "solution": true,
     "task": false
    }
   },
   "outputs": [],
   "source": []
  },
  {
   "cell_type": "markdown",
   "metadata": {
    "nbgrader": {
     "cell_type": "markdown",
     "checksum": "962b44ec76fb8b07104ee6f8083082f1",
     "grade": false,
     "grade_id": "cell-5fb3e7269dc8609b",
     "locked": true,
     "schema_version": 3,
     "solution": false,
     "task": false
    }
   },
   "source": [
    "**B.2(c) [4 points] Store these vectors in a data frame called `df`. Load the `ggplot2` library, and use the `ggplot() + geom_point()` function to create a scatter plot of `xstar` and `ystar`, and color each point relative to the value of `z`.**"
   ]
  },
  {
   "cell_type": "code",
   "execution_count": null,
   "metadata": {
    "nbgrader": {
     "cell_type": "code",
     "checksum": "035bd2e958c6c42b10e5a22128d8d047",
     "grade": true,
     "grade_id": "cell-b51aedaa4b4e202d",
     "locked": false,
     "points": 4,
     "schema_version": 3,
     "solution": true,
     "task": false
    }
   },
   "outputs": [],
   "source": []
  },
  {
   "cell_type": "markdown",
   "metadata": {
    "nbgrader": {
     "cell_type": "markdown",
     "checksum": "fd7b5ccd9cde57e12caffa8ca1a10770",
     "grade": false,
     "grade_id": "cell-fa9f907e310feee4",
     "locked": true,
     "schema_version": 3,
     "solution": false,
     "task": false
    }
   },
   "source": [
    "#### (d) [4 points] Interpret and analyze the results from the previous part. What practical lessons can you learn from this example?"
   ]
  },
  {
   "cell_type": "markdown",
   "metadata": {
    "nbgrader": {
     "cell_type": "code",
     "checksum": "814517edddddd121c5428bf8e3deb3de",
     "grade": true,
     "grade_id": "cell-ed0561858818597f",
     "locked": false,
     "points": 4,
     "schema_version": 3,
     "solution": true,
     "task": false
    }
   },
   "source": []
  },
  {
   "cell_type": "markdown",
   "metadata": {
    "nbgrader": {
     "cell_type": "markdown",
     "checksum": "01530b85626b85b307d38130431fa128",
     "grade": false,
     "grade_id": "cell-832c90a710e2c0f0",
     "locked": true,
     "schema_version": 3,
     "solution": false,
     "task": false
    }
   },
   "source": [
    "## B.3 The Central Limit Theorem revisited\n",
    "\n",
    "The code `rf(n, 2, 3)` can be used to generate $n$ random numbers from an [\"$F$-distribution\"](https://en.wikipedia.org/wiki/F-distribution) with parameters `2` and `3` (don't worry to much about what the $F$-distribution is or models at this point; it's just a probability distribution!). \n",
    "\n",
    "**B.3(a) [5 points] Construct a matrix `x` with $m = 10,000$ columns, where each column is a different sample of size $n = 25$ from the $F$-distribution with parameters `2` and `3`. Construct a histogram of one of the columns. What can you say about the shape of this distribution?**\n"
   ]
  },
  {
   "cell_type": "code",
   "execution_count": null,
   "metadata": {
    "nbgrader": {
     "cell_type": "code",
     "checksum": "7b21c1bc520b1a053b32ed1f74930e50",
     "grade": true,
     "grade_id": "cell-0c4e234c5a9d8fa1",
     "locked": false,
     "points": 4,
     "schema_version": 3,
     "solution": true,
     "task": false
    }
   },
   "outputs": [],
   "source": []
  },
  {
   "cell_type": "markdown",
   "metadata": {
    "nbgrader": {
     "cell_type": "markdown",
     "checksum": "114fd2eed5ad1ab8cf71798ea7484c46",
     "grade": true,
     "grade_id": "cell-c3c79639a44958a4",
     "locked": false,
     "points": 1,
     "schema_version": 3,
     "solution": true,
     "task": false
    }
   },
   "source": []
  },
  {
   "cell_type": "markdown",
   "metadata": {
    "nbgrader": {
     "cell_type": "markdown",
     "checksum": "17f35e89b7c92705e3947e1eac51ec8f",
     "grade": false,
     "grade_id": "cell-2cad717013fa203e",
     "locked": true,
     "schema_version": 3,
     "solution": false,
     "task": false
    }
   },
   "source": [
    "**B.3(b) [5 points] Use `colMeans()` to find the mean of each sample (each column of `x`). Store these means in `xbar`. Construct a histogram of `xbar`. Does the histogram look normal (or approximately normal)? If yes, why? If no, why not?**"
   ]
  },
  {
   "cell_type": "code",
   "execution_count": null,
   "metadata": {
    "nbgrader": {
     "cell_type": "code",
     "checksum": "814bcc12d55a727b98a284f18a72716d",
     "grade": true,
     "grade_id": "cell-e3188475515d1c77",
     "locked": false,
     "points": 3,
     "schema_version": 3,
     "solution": true,
     "task": false
    }
   },
   "outputs": [],
   "source": []
  },
  {
   "cell_type": "markdown",
   "metadata": {
    "nbgrader": {
     "cell_type": "markdown",
     "checksum": "e93361a3bb8a2b95b23966294931c487",
     "grade": true,
     "grade_id": "cell-45b2990c87427ac9",
     "locked": false,
     "points": 2,
     "schema_version": 3,
     "solution": true,
     "task": false
    }
   },
   "source": []
  }
 ],
 "metadata": {
  "kernelspec": {
   "display_name": "R",
   "language": "R",
   "name": "ir"
  },
  "language_info": {
   "codemirror_mode": "r",
   "file_extension": ".r",
   "mimetype": "text/x-r-source",
   "name": "R",
   "pygments_lexer": "r",
   "version": "3.6.1"
  }
 },
 "nbformat": 4,
 "nbformat_minor": 2
}
