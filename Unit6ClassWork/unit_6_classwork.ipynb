{
 "cells": [
  {
   "cell_type": "markdown",
   "metadata": {
    "nbgrader": {
     "cell_type": "markdown",
     "checksum": "9a05151801a55268d0db2aa1c4de5f5e",
     "grade": false,
     "grade_id": "cell-d6684dce14b5da4e",
     "locked": true,
     "schema_version": 3,
     "solution": false,
     "task": false
    }
   },
   "source": [
    "# Unit 6 Classwork\n",
    "\n",
    "The purpose of this in-class notebook is for you to gain some experience with bootstrap simulations. You are expected to complete all exercises and turn in your work on Canvas (due date will be on the Unit #6 Classwork Canvas assignment)."
   ]
  },
  {
   "cell_type": "markdown",
   "metadata": {
    "nbgrader": {
     "cell_type": "markdown",
     "checksum": "395dcb4e1a52091d24244fe2e46ed391",
     "grade": false,
     "grade_id": "cell-075ccec0509ff354",
     "locked": true,
     "schema_version": 3,
     "solution": false,
     "task": false
    }
   },
   "source": [
    "## Problem #1\n",
    "\n",
    "Let's compare the \"normal theory\" confidence interval to boostrap confidence intervals.\n",
    "\n",
    "#### 1.(a) Generate a sample of size $n = 45$ from an exponential distribution with rate $\\lambda = 1$. Calculate $\\bar{X}$. "
   ]
  },
  {
   "cell_type": "code",
   "execution_count": null,
   "metadata": {
    "nbgrader": {
     "cell_type": "code",
     "checksum": "e4995e2d111e32657c89f2d5ff7aaba2",
     "grade": true,
     "grade_id": "cell-46c2c1f59a3760d6",
     "locked": false,
     "points": 0,
     "schema_version": 3,
     "solution": true,
     "task": false
    }
   },
   "outputs": [],
   "source": [
    "#YOUR CODE HERE\n",
    "fail() # No Answer - remove if you provide an answer"
   ]
  },
  {
   "cell_type": "markdown",
   "metadata": {
    "nbgrader": {
     "cell_type": "markdown",
     "checksum": "c48774b2a58598f2880779075d0f3b62",
     "grade": false,
     "grade_id": "cell-0ae2799bd4fdfb35",
     "locked": true,
     "schema_version": 3,
     "solution": false,
     "task": false
    }
   },
   "source": [
    "#### 1.(b) Calculate $B = 500$ bootstrap samples, each of size $n$. You might do this in a $B \\times n$ matrix, for example, where each row is a boostrap sample. Then, find the mean of each bootstrap sample, denoted $\\bar{X}^*_i$, for $i = 1,...,B$. "
   ]
  },
  {
   "cell_type": "code",
   "execution_count": null,
   "metadata": {
    "nbgrader": {
     "cell_type": "code",
     "checksum": "9723719e00dec5b47c72781d4dc8824c",
     "grade": true,
     "grade_id": "cell-656321ce19977bc8",
     "locked": false,
     "points": 0,
     "schema_version": 3,
     "solution": true,
     "task": false
    }
   },
   "outputs": [],
   "source": [
    "#YOUR CODE HERE\n",
    "fail() # No Answer - remove if you provide an answer"
   ]
  },
  {
   "cell_type": "markdown",
   "metadata": {
    "nbgrader": {
     "cell_type": "markdown",
     "checksum": "af2c9fef85d536a8b58da04b20b47c98",
     "grade": false,
     "grade_id": "cell-25eae52959ac52bb",
     "locked": true,
     "schema_version": 3,
     "solution": false,
     "task": false
    }
   },
   "source": [
    "#### 1.(c) Use the `quantile()` function to find the $2.5 \\text{th}$ and $97.5\\text{th}$ percentile of the distribution of each $\\bar{X}^*_i$. Use these values to calculate the $95\\%$ pivot boostrap confidence interval for $\\mu$. "
   ]
  },
  {
   "cell_type": "code",
   "execution_count": null,
   "metadata": {
    "nbgrader": {
     "cell_type": "code",
     "checksum": "a4aab5cc2b99d09676a8e03e024b9a52",
     "grade": true,
     "grade_id": "cell-ef69ba19dc52e3f1",
     "locked": false,
     "points": 0,
     "schema_version": 3,
     "solution": true,
     "task": false
    }
   },
   "outputs": [],
   "source": [
    "#YOUR CODE HERE\n",
    "fail() # No Answer - remove if you provide an answer"
   ]
  },
  {
   "cell_type": "markdown",
   "metadata": {
    "nbgrader": {
     "cell_type": "markdown",
     "checksum": "75883c22df245e819d0b89564a1159ea",
     "grade": false,
     "grade_id": "cell-148445bad00d1fd0",
     "locked": true,
     "schema_version": 3,
     "solution": false,
     "task": false
    }
   },
   "source": [
    "#### 1.(d) Compute the appropriate \"normal theory\" confidence interval for $\\mu$, and the bootstrap percentile confidence interval for $\\mu$. "
   ]
  },
  {
   "cell_type": "code",
   "execution_count": null,
   "metadata": {
    "nbgrader": {
     "cell_type": "code",
     "checksum": "a7baf3fc598d2d86f049325a900c478d",
     "grade": true,
     "grade_id": "cell-00ca4ad9875363db",
     "locked": false,
     "points": 0,
     "schema_version": 3,
     "solution": true,
     "task": false
    }
   },
   "outputs": [],
   "source": [
    "#YOUR CODE HERE\n",
    "fail() # No Answer - remove if you provide an answer"
   ]
  },
  {
   "cell_type": "markdown",
   "metadata": {
    "nbgrader": {
     "cell_type": "markdown",
     "checksum": "24ee4e247ba152190e7c5538ff0fa9a1",
     "grade": false,
     "grade_id": "cell-2d03935137aee2ff",
     "locked": true,
     "schema_version": 3,
     "solution": false,
     "task": false
    }
   },
   "source": [
    "#### 1.(e) What values can you change above to make these interval estimates closer to each other?"
   ]
  },
  {
   "cell_type": "markdown",
   "metadata": {
    "nbgrader": {
     "cell_type": "markdown",
     "checksum": "a8f89e8c2208036edbd8a188f738905e",
     "grade": false,
     "grade_id": "cell-4e89ac87597694ef",
     "locked": true,
     "schema_version": 3,
     "solution": false,
     "task": false
    }
   },
   "source": []
  },
  {
   "cell_type": "markdown",
   "metadata": {
    "nbgrader": {
     "cell_type": "markdown",
     "checksum": "09441f1fafcfe7ca2ed5cb48dfacdcfa",
     "grade": false,
     "grade_id": "cell-f1ae9ab87cf85869",
     "locked": true,
     "schema_version": 3,
     "solution": false,
     "task": false
    }
   },
   "source": [
    "## Problem #2\n",
    "\n",
    " Suppose that $X_1,...,X_8 \\overset{iid}{\\sim} Exp(\\lambda)$. Let's use the pivot bootstrap to compute a $90\\%$ confidence interval for the population variance: $\\text{Var}[X_i] = 1/\\lambda^2 = \\theta$.\n",
    "\n",
    "\n",
    "#### 2.(a) Generate a sample of size $n = 8$ from the distribution $Exp(\\lambda = 3)$ and calculate the population variance, $\\theta$ (in this example, we are generating data so that we can see how well our estimation procedure (the confidence interval) will do)."
   ]
  },
  {
   "cell_type": "code",
   "execution_count": null,
   "metadata": {
    "nbgrader": {
     "cell_type": "code",
     "checksum": "dea7fa50199e5217ca6206d42812c6a4",
     "grade": true,
     "grade_id": "cell-75b558fa869cdc1c",
     "locked": false,
     "points": 0,
     "schema_version": 3,
     "solution": true,
     "task": false
    }
   },
   "outputs": [],
   "source": [
    "#YOUR CODE HERE\n",
    "fail() # No Answer - remove if you provide an answer"
   ]
  },
  {
   "cell_type": "markdown",
   "metadata": {
    "nbgrader": {
     "cell_type": "markdown",
     "checksum": "a8842c5e931ea3d649e5386492da5377",
     "grade": false,
     "grade_id": "cell-f3cd954b351018ba",
     "locked": true,
     "schema_version": 3,
     "solution": false,
     "task": false
    }
   },
   "source": [
    "#### (b) Generate $B = 200$ bootstrap samples from the above sample. \n",
    "\n",
    "Again, use `replicate()` and `sample()`..."
   ]
  },
  {
   "cell_type": "code",
   "execution_count": null,
   "metadata": {
    "nbgrader": {
     "cell_type": "code",
     "checksum": "4f0582e5b3a9fa1c7aea87c89c0f468c",
     "grade": true,
     "grade_id": "cell-c524c01f9e4d102c",
     "locked": false,
     "points": 0,
     "schema_version": 3,
     "solution": true,
     "task": false
    }
   },
   "outputs": [],
   "source": [
    "#YOUR CODE HERE\n",
    "fail() # No Answer - remove if you provide an answer"
   ]
  },
  {
   "cell_type": "markdown",
   "metadata": {},
   "source": [
    "#### (c) Calculate the MLE of $\\theta$ for the original sample. Denote this as $\\widehat{\\theta}$. Then, calculate the MLE of $\\theta$ for each bootstrap sample. Denote this as $\\widehat{\\theta}^*_i$, for $i = 1,...,B$. Avoid loops! (HINT: use the apply() function.)"
   ]
  },
  {
   "cell_type": "code",
   "execution_count": null,
   "metadata": {},
   "outputs": [],
   "source": [
    "#YOUR CODE HERE\n",
    "fail() # No Answer - remove if you provide an answer"
   ]
  },
  {
   "cell_type": "markdown",
   "metadata": {
    "nbgrader": {
     "cell_type": "markdown",
     "checksum": "ad5178e58610996be3633c2f17af7428",
     "grade": false,
     "grade_id": "cell-4de756811238e9cb",
     "locked": true,
     "schema_version": 3,
     "solution": false,
     "task": false
    }
   },
   "source": [
    "#### (d) Use the `quantile()` function to find the $5\\text{th}$ and $95\\text{th}$ percentile of the distribution of $\\widehat{\\theta}^*_i$. Use these values to calculate the $90\\%$ pivot bootstrap confidence interval for $\\theta$. "
   ]
  },
  {
   "cell_type": "code",
   "execution_count": null,
   "metadata": {
    "nbgrader": {
     "cell_type": "code",
     "checksum": "e384011b9776d5e1e853b2a7d53b0b25",
     "grade": true,
     "grade_id": "cell-25c850fd16d644d8",
     "locked": false,
     "points": 0,
     "schema_version": 3,
     "solution": true,
     "task": false
    }
   },
   "outputs": [],
   "source": [
    "#YOUR CODE HERE\n",
    "fail() # No Answer - remove if you provide an answer"
   ]
  },
  {
   "cell_type": "markdown",
   "metadata": {
    "nbgrader": {
     "cell_type": "markdown",
     "checksum": "6726ad83f0cfc2b1d510373258a95399",
     "grade": false,
     "grade_id": "cell-86f1d9644b162c2a",
     "locked": true,
     "schema_version": 3,
     "solution": false,
     "task": false
    }
   },
   "source": [
    "#### (e) Interpret this confidence interval."
   ]
  },
  {
   "cell_type": "markdown",
   "metadata": {
    "nbgrader": {
     "cell_type": "markdown",
     "checksum": "24bdd5e8d837df8a0b327939eff391bd",
     "grade": true,
     "grade_id": "cell-54e4334f8178c453",
     "locked": false,
     "points": 0,
     "schema_version": 3,
     "solution": true,
     "task": false
    }
   },
   "source": [
    "YOUR ANSWER HERE"
   ]
  },
  {
   "cell_type": "code",
   "execution_count": null,
   "metadata": {
    "nbgrader": {
     "cell_type": "code",
     "checksum": "0ab87ac1be7999fa8177dd4ffc5a3457",
     "grade": true,
     "grade_id": "cell-b9dfdce967ce8e56",
     "locked": false,
     "points": 0,
     "schema_version": 3,
     "solution": true,
     "task": false
    }
   },
   "outputs": [],
   "source": [
    "#YOUR CODE HERE\n",
    "fail() # No Answer - remove if you provide an answer"
   ]
  }
 ],
 "metadata": {
  "kernelspec": {
   "display_name": "R",
   "language": "R",
   "name": "ir"
  },
  "language_info": {
   "codemirror_mode": "r",
   "file_extension": ".r",
   "mimetype": "text/x-r-source",
   "name": "R",
   "pygments_lexer": "r",
   "version": "4.2.0"
  }
 },
 "nbformat": 4,
 "nbformat_minor": 2
}
