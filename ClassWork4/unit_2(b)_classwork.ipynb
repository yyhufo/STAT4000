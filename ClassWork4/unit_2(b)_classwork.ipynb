{
 "cells": [
  {
   "cell_type": "markdown",
   "metadata": {
    "nbgrader": {
     "cell_type": "markdown",
     "checksum": "a6dbbcf3e948069fdf02b296d96fe9d1",
     "grade": false,
     "grade_id": "cell-e0d1f28bb04be6d2",
     "locked": true,
     "schema_version": 3,
     "solution": false,
     "task": false
    }
   },
   "source": [
    "# Unit 2(b) Classwork\n",
    "\n",
    "The goals of this assignment are to help you (1) calculate probabilities, plot density functions, etc., involving random variables using R, (2) simulate probabilistic processes, and (3) estimate probabilities and other quantities through numerical (computer) simulation. Such simulations can be useful. We can use simulations to help confirm that we've calculated a probability \"by hand\" correctly, or to estimate other quantities, like areas/integrals!"
   ]
  },
  {
   "cell_type": "markdown",
   "metadata": {
    "nbgrader": {
     "cell_type": "markdown",
     "checksum": "6497f5161b1d5cf1fda1a24d3e3a6ea3",
     "grade": false,
     "grade_id": "cell-376da07a78f67212",
     "locked": true,
     "schema_version": 3,
     "solution": false,
     "task": false
    }
   },
   "source": [
    "# Problem 1\n",
    "\n",
    "#### Use `dexp()` to plot the PDFs exponential distributions for $\\lambda \\in \\{1, 2, 5, 7\\}$. More concretely, create a vector consisting of the elements $1,2,5,7$. Then, generate a grid of `x` values between $0$ and $15$ (with, say, $1000$ points). Then, calculate the PDF of the exponential at each `x` value, and plot them in separate code cells."
   ]
  },
  {
   "cell_type": "code",
   "execution_count": null,
   "metadata": {
    "nbgrader": {
     "cell_type": "code",
     "checksum": "5ce66878716f8163eb38e7c895800f60",
     "grade": true,
     "grade_id": "cell-c3f2d173f469ddaa",
     "locked": false,
     "points": 1,
     "schema_version": 3,
     "solution": true,
     "task": false
    },
    "vscode": {
     "languageId": "r"
    }
   },
   "outputs": [],
   "source": [
    "#YOUR CODE HERE\n",
    "fail() # No Answer - remove if you provide an answer"
   ]
  },
  {
   "cell_type": "code",
   "execution_count": null,
   "metadata": {
    "vscode": {
     "languageId": "r"
    }
   },
   "outputs": [],
   "source": [
    "#YOUR CODE HERE\n",
    "fail() # No Answer - remove if you provide an answer"
   ]
  },
  {
   "cell_type": "code",
   "execution_count": null,
   "metadata": {
    "vscode": {
     "languageId": "r"
    }
   },
   "outputs": [],
   "source": [
    "#YOUR CODE HERE\n",
    "fail() # No Answer - remove if you provide an answer"
   ]
  },
  {
   "cell_type": "code",
   "execution_count": null,
   "metadata": {
    "vscode": {
     "languageId": "r"
    }
   },
   "outputs": [],
   "source": [
    "#YOUR CODE HERE\n",
    "fail() # No Answer - remove if you provide an answer"
   ]
  },
  {
   "cell_type": "code",
   "execution_count": null,
   "metadata": {
    "vscode": {
     "languageId": "r"
    }
   },
   "outputs": [],
   "source": [
    "#YOUR CODE HERE\n",
    "fail() # No Answer - remove if you provide an answer"
   ]
  },
  {
   "cell_type": "markdown",
   "metadata": {
    "nbgrader": {
     "cell_type": "markdown",
     "checksum": "45d6511ec85de75ba8f2f7f59fb984d0",
     "grade": false,
     "grade_id": "cell-95de5c24bb546c30",
     "locked": true,
     "schema_version": 3,
     "solution": false,
     "task": false
    }
   },
   "source": [
    "# Problem 2\n",
    "Monte Carlo Estimation of $\\pi$.\n",
    "\n",
    "**2.(a) Generate two vectors of $10,000$ random numbers, sampled from the uniform distribution on $(-1, 1)$. Call them `x` and `y`. Find the first quartile and 30th percentile of $X \\sim U(-1,1)$.**"
   ]
  },
  {
   "cell_type": "code",
   "execution_count": null,
   "metadata": {
    "nbgrader": {
     "cell_type": "code",
     "checksum": "36b8bded7f69b367c8a1761653d7e677",
     "grade": true,
     "grade_id": "cell-61b29fb6e2b66130",
     "locked": false,
     "points": 1,
     "schema_version": 3,
     "solution": true,
     "task": false
    },
    "vscode": {
     "languageId": "r"
    }
   },
   "outputs": [],
   "source": [
    "#YOUR CODE HERE\n",
    "fail() # No Answer - remove if you provide an answer"
   ]
  },
  {
   "cell_type": "markdown",
   "metadata": {
    "nbgrader": {
     "cell_type": "markdown",
     "checksum": "5da1f46920a8e7bbf0d60458fdae28ce",
     "grade": false,
     "grade_id": "cell-d7d8fdce4cf30c8e",
     "locked": true,
     "schema_version": 3,
     "solution": false,
     "task": false
    }
   },
   "source": [
    "**2.(b) Create a vector of logicals, called `incircle`, that is equal to TRUE if $x^2 + y^2 \\le 1^2$ and FALSE otherwise, where the values for $x$ and $y$ come from the vectors `x` and `y` generated in 2.(a)).**"
   ]
  },
  {
   "cell_type": "code",
   "execution_count": null,
   "metadata": {
    "nbgrader": {
     "cell_type": "code",
     "checksum": "b4e9d9ee5ed68c78898fb102fbeb2e45",
     "grade": true,
     "grade_id": "cell-bc73d61d90c24fea",
     "locked": false,
     "points": 1,
     "schema_version": 3,
     "solution": true,
     "task": false
    },
    "vscode": {
     "languageId": "r"
    }
   },
   "outputs": [],
   "source": [
    "#YOUR CODE HERE\n",
    "fail() # No Answer - remove if you provide an answer"
   ]
  },
  {
   "cell_type": "markdown",
   "metadata": {
    "nbgrader": {
     "cell_type": "markdown",
     "checksum": "95f451911de3b09f6dbb172599ee9d3c",
     "grade": false,
     "grade_id": "cell-1544aa083abe550f",
     "locked": true,
     "schema_version": 3,
     "solution": false,
     "task": false
    }
   },
   "source": [
    "**2.(c) Calculate the number of values of `incircle` that are equal to TRUE. Use this value to estimate $\\pi$. Describe why this works.**"
   ]
  },
  {
   "cell_type": "code",
   "execution_count": null,
   "metadata": {
    "nbgrader": {
     "cell_type": "code",
     "checksum": "dbaac1bcd424d4723108ed9d87d1a21a",
     "grade": true,
     "grade_id": "cell-770e3635f3335d3f",
     "locked": false,
     "points": 0,
     "schema_version": 3,
     "solution": true,
     "task": false
    },
    "vscode": {
     "languageId": "r"
    }
   },
   "outputs": [],
   "source": [
    "#YOUR CODE HERE\n",
    "fail() # No Answer - remove if you provide an answer"
   ]
  },
  {
   "cell_type": "markdown",
   "metadata": {
    "nbgrader": {
     "cell_type": "markdown",
     "checksum": "3d532e7829fd97b00b179f681249cccc",
     "grade": true,
     "grade_id": "cell-2bf4690e0a99db70",
     "locked": false,
     "points": 0,
     "schema_version": 3,
     "solution": true,
     "task": false
    }
   },
   "source": [
    "YOUR ANSWER HERE"
   ]
  },
  {
   "cell_type": "markdown",
   "metadata": {
    "collapsed": true,
    "nbgrader": {
     "cell_type": "markdown",
     "checksum": "df10f4d90ac17d66955f5fbe8d5956f9",
     "grade": false,
     "grade_id": "cell-41ab8a15102b58ac",
     "locked": true,
     "schema_version": 3,
     "solution": false,
     "task": false
    }
   },
   "source": [
    "**2.(d) How could you use this to estimate the area of a circle with radius 2 centered at the origin?**"
   ]
  },
  {
   "cell_type": "markdown",
   "metadata": {
    "collapsed": true,
    "nbgrader": {
     "cell_type": "markdown",
     "checksum": "8b0edfa718c102cda4ff0ea6f0cbf490",
     "grade": true,
     "grade_id": "cell-74eaeeff3c4c3db1",
     "locked": false,
     "points": 1,
     "schema_version": 3,
     "solution": true,
     "task": false
    }
   },
   "source": [
    "YOUR ANSWER HERE"
   ]
  },
  {
   "cell_type": "code",
   "execution_count": null,
   "metadata": {
    "nbgrader": {
     "cell_type": "code",
     "checksum": "d3829ae42a316370404c562ff7c20f21",
     "grade": true,
     "grade_id": "cell-53fbf0e656128cae",
     "locked": false,
     "points": 0,
     "schema_version": 3,
     "solution": true,
     "task": false
    },
    "vscode": {
     "languageId": "r"
    }
   },
   "outputs": [],
   "source": [
    "#YOUR CODE HERE\n",
    "fail() # No Answer - remove if you provide an answer"
   ]
  }
 ],
 "metadata": {
  "kernelspec": {
   "display_name": "R",
   "language": "R",
   "name": "ir"
  },
  "language_info": {
   "codemirror_mode": "r",
   "file_extension": ".r",
   "mimetype": "text/x-r-source",
   "name": "R",
   "pygments_lexer": "r",
   "version": "4.2.0"
  }
 },
 "nbformat": 4,
 "nbformat_minor": 2
}
