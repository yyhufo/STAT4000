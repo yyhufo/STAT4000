{
 "cells": [
  {
   "cell_type": "markdown",
   "metadata": {
    "nbgrader": {
     "cell_type": "markdown",
     "checksum": "fb080ddfc23c43a666e6e904c853cd83",
     "grade": false,
     "grade_id": "cell-eeb8b9d983446df1",
     "locked": true,
     "schema_version": 3,
     "solution": false,
     "task": false
    }
   },
   "source": [
    "# Homework #8\n",
    "\n",
    "**See Canvas for the HW #8 assignment and due date**. Complete all of the following problems. Ideally, the theoretical problems should be answered in a Markdown cell directly underneath the question. If you don't know LaTex/Markdown, you may submit separate handwritten solutions to the theoretical problems, but please see the [class scanning policy](https://docs.google.com/document/d/17y5ksolrn2rEuXYBv_3HeZhkPbYwt48UojNT1OvcB_w/?usp=sharing). Please do not turn in messy work. Computational problems should be completed in this notebook (using the R kernel). Computational questions may require code, plots, analysis, interpretation, etc. Working in small groups is allowed, but it is important that you make an effort to master the material and hand in your own work. "
   ]
  },
  {
   "cell_type": "markdown",
   "metadata": {
    "nbgrader": {
     "cell_type": "markdown",
     "checksum": "02a934bccc77a49a699113b5d175dd50",
     "grade": false,
     "grade_id": "cell-25843854fabf772d",
     "locked": true,
     "schema_version": 3,
     "solution": false,
     "task": false
    }
   },
   "source": [
    "## A. Theoretical Problems"
   ]
  },
  {
   "cell_type": "markdown",
   "metadata": {
    "nbgrader": {
     "cell_type": "markdown",
     "checksum": "6f2fcca6d052f65614cf83871919e75a",
     "grade": false,
     "grade_id": "cell-2e3d58bc55641ceb",
     "locked": true,
     "schema_version": 3,
     "solution": false,
     "task": false
    }
   },
   "source": [
    "## NOPE!\n"
   ]
  },
  {
   "cell_type": "markdown",
   "metadata": {
    "nbgrader": {
     "cell_type": "markdown",
     "checksum": "5b84c237401182d6b508601f643e7639",
     "grade": false,
     "grade_id": "cell-8d63ae4c3d2fab40",
     "locked": true,
     "schema_version": 3,
     "solution": false,
     "task": false
    }
   },
   "source": [
    "## B. Computational Problems"
   ]
  },
  {
   "cell_type": "markdown",
   "metadata": {
    "nbgrader": {
     "cell_type": "markdown",
     "checksum": "d3bb9f98a8fce1e24ade0e20d258f421",
     "grade": false,
     "grade_id": "cell-ad72d8eb0bba4986",
     "locked": true,
     "schema_version": 3,
     "solution": false,
     "task": false
    }
   },
   "source": [
    "## B.1 Do remote students perform worse?\n",
    "\n",
    "In spring 2019, STAT 5010 had two sections: an in-person section and an online/remote section. The Department of Applied Math is interested to know whether the in-person students performed better than the remote students. For this question, let $\\alpha = 0.05$. \n",
    "\n",
    "Each row of the dataset is a student from STAT 5010 in 2019. The variables in the dataset are:\n",
    "\n",
    "- `modality`: `1` denotes in-person, `2` denotes remote.\n",
    "- `score`: The final score in the class."
   ]
  },
  {
   "cell_type": "code",
   "execution_count": null,
   "metadata": {
    "nbgrader": {
     "cell_type": "code",
     "checksum": "aff93dfcc278b9ab4967c54b94fd4c67",
     "grade": false,
     "grade_id": "cell-e9b6c9032912c0f9",
     "locked": true,
     "schema_version": 3,
     "solution": false,
     "task": false
    }
   },
   "outputs": [],
   "source": [
    "library(tidyverse)\n",
    "library(ggplot2)\n",
    "\n",
    "\n",
    "df = read.csv(\"InPersonRemote.csv\")\n",
    "df$modality = as.factor(df$modality)\n",
    "summary(df)\n",
    "dim(df)"
   ]
  },
  {
   "cell_type": "markdown",
   "metadata": {
    "nbgrader": {
     "cell_type": "markdown",
     "checksum": "9bec67f32f414c54016f6663f4af5354",
     "grade": false,
     "grade_id": "cell-fb6a16ca696dbaf3",
     "locked": true,
     "schema_version": 3,
     "solution": false,
     "task": false
    }
   },
   "source": [
    "**B.1 (a) [10 points] Explore the data to decide whether the normality and equal variance assumptions might be violated (see the \"Tests for Differences in Means\" section of the notes). If histograms don't help you determine whether the data come from a normally distributed population, you may want to investigate the `R` function `shapiro.test()`.**\n",
    "\n",
    "If you do not have evidence that the data are non-normal, you can carry on as if the data are normal. If you're not sure whether the variances are equal, assume they aren't."
   ]
  },
  {
   "cell_type": "code",
   "execution_count": null,
   "metadata": {
    "nbgrader": {
     "cell_type": "code",
     "checksum": "0b45a38fda6482a1c00dfa1d54729d79",
     "grade": true,
     "grade_id": "cell-87a1aec85eb3aaf9",
     "locked": false,
     "points": 6,
     "schema_version": 3,
     "solution": true,
     "task": false
    }
   },
   "outputs": [],
   "source": []
  },
  {
   "cell_type": "markdown",
   "metadata": {
    "nbgrader": {
     "cell_type": "markdown",
     "checksum": "3547865aeaf71d660375eedcd3c5fd83",
     "grade": true,
     "grade_id": "cell-7f8905aef30e7197",
     "locked": false,
     "points": 4,
     "schema_version": 3,
     "solution": true,
     "task": false
    }
   },
   "source": []
  },
  {
   "cell_type": "markdown",
   "metadata": {
    "nbgrader": {
     "cell_type": "markdown",
     "checksum": "d811e03a7080dca06fca8745ba77285f",
     "grade": false,
     "grade_id": "cell-e77efea510e80736",
     "locked": true,
     "schema_version": 3,
     "solution": false,
     "task": false
    }
   },
   "source": [
    "Let $\\mu_r$ represent the population mean of scores in the remote group. Let $\\mu_p$ represent the population mean of scores in the in-person group. \n",
    "\n",
    "**B.1 (b) [10 points] Test whether there is statistical evidence that $\\mu_R \\ne \\mu_P$ at the $\\alpha = 0.05$ level. Use the appropriate test, based on the results from B.1(a). Code the test yourself (without using a built-in `R` function). Be sure to write out your null and alternative hypotheses and clearly state your decision.**\n",
    "\n",
    "We'll assume that no other variables would be relevant to any difference in scores (but that's probably not true, and we learn how to deal with this kind of situation in STAT 5010!)."
   ]
  },
  {
   "cell_type": "code",
   "execution_count": null,
   "metadata": {
    "nbgrader": {
     "cell_type": "code",
     "checksum": "f9f77633954c333733cc614b60dcfe3d",
     "grade": true,
     "grade_id": "cell-f532ad9362004496",
     "locked": false,
     "points": 10,
     "schema_version": 3,
     "solution": true,
     "task": false
    }
   },
   "outputs": [],
   "source": []
  },
  {
   "cell_type": "markdown",
   "metadata": {
    "nbgrader": {
     "cell_type": "markdown",
     "checksum": "b85f2594b0f395d8a0f99b826e58003a",
     "grade": false,
     "grade_id": "cell-91583bb7d5adf764",
     "locked": true,
     "schema_version": 3,
     "solution": false,
     "task": false
    }
   },
   "source": [
    "**B.1 (c) [10 points] Now find an `R` function that conducts the test that you used in B.1(b). Interpret the confidence interval given by that function.**"
   ]
  },
  {
   "cell_type": "code",
   "execution_count": null,
   "metadata": {
    "nbgrader": {
     "cell_type": "code",
     "checksum": "75df4715dd90d930bcafe419554098ed",
     "grade": true,
     "grade_id": "cell-6acc93925a9ce753",
     "locked": false,
     "points": 4,
     "schema_version": 3,
     "solution": true,
     "task": false
    }
   },
   "outputs": [],
   "source": []
  },
  {
   "cell_type": "markdown",
   "metadata": {
    "nbgrader": {
     "cell_type": "markdown",
     "checksum": "3adab7007c00608c775fea2ecdb2b783",
     "grade": true,
     "grade_id": "cell-6dba80897a696916",
     "locked": false,
     "points": 6,
     "schema_version": 3,
     "solution": true,
     "task": false
    }
   },
   "source": []
  },
  {
   "cell_type": "markdown",
   "metadata": {
    "collapsed": true,
    "nbgrader": {
     "cell_type": "markdown",
     "checksum": "db4ca61d6b399b1e8b209265bfc5492d",
     "grade": false,
     "grade_id": "cell-40f14ead27b55947",
     "locked": true,
     "schema_version": 3,
     "solution": false,
     "task": false
    }
   },
   "source": [
    "## B.2 Parametric tests without normality\n",
    "Let $X ∼ \\text{Pois}(\\lambda)$. We want to test the null hypothesis that $\\lambda \\leq 15$, and the alternative hypothesis is that $\\lambda > 15$. Our sample size for this test is equal to $1$.  We will reject the null hypothesis if $X$ is greater than a certain value $c$.\n",
    "\n",
    "**B.2 (a) [18 points] What value should we choose for $c$ such that the probability of a type I error is at most $0.10$? In the first cell, write out the relevant formulas. In the second (code cell), construct a table of values for $c$ along with the corresponding type I errors. In the third, state $c$.**"
   ]
  },
  {
   "cell_type": "markdown",
   "metadata": {
    "nbgrader": {
     "cell_type": "markdown",
     "checksum": "2ecd6fa216b591fa4f6fa8ab998e5cfd",
     "grade": true,
     "grade_id": "cell-2a32439744d693e0",
     "locked": false,
     "points": 5,
     "schema_version": 3,
     "solution": true,
     "task": false
    }
   },
   "source": []
  },
  {
   "cell_type": "code",
   "execution_count": null,
   "metadata": {
    "nbgrader": {
     "cell_type": "code",
     "checksum": "c3cf30f832806a9eb2170917665f52d8",
     "grade": true,
     "grade_id": "cell-1e7b998435678fa8",
     "locked": false,
     "points": 10,
     "schema_version": 3,
     "solution": true,
     "task": false
    }
   },
   "outputs": [],
   "source": []
  },
  {
   "cell_type": "markdown",
   "metadata": {
    "nbgrader": {
     "cell_type": "markdown",
     "checksum": "57728fcbd9fd6d14cd1886c9779309cc",
     "grade": true,
     "grade_id": "cell-baeacac566bc09e3",
     "locked": false,
     "points": 3,
     "schema_version": 3,
     "solution": true,
     "task": false
    }
   },
   "source": []
  },
  {
   "cell_type": "markdown",
   "metadata": {
    "nbgrader": {
     "cell_type": "markdown",
     "checksum": "d5837da7ca044483f1087cc4b34cc32e",
     "grade": false,
     "grade_id": "cell-b573caffc3030570",
     "locked": true,
     "schema_version": 3,
     "solution": false,
     "task": false
    }
   },
   "source": [
    "**B.2 (b) [10 points] If $\\lambda$ is actually equal to $20$, what is the probability of making a type 2 error using the cut-off point from B.2 (a)? In the first cell, write the appropriate formula. In the second, calculate it using `R`.**"
   ]
  },
  {
   "cell_type": "markdown",
   "metadata": {
    "nbgrader": {
     "cell_type": "markdown",
     "checksum": "fce24ba78acf1e52a12370d3be9348a6",
     "grade": true,
     "grade_id": "cell-2ed3174693c98cd4",
     "locked": false,
     "points": 2,
     "schema_version": 3,
     "solution": true,
     "task": false
    }
   },
   "source": []
  },
  {
   "cell_type": "code",
   "execution_count": null,
   "metadata": {
    "nbgrader": {
     "cell_type": "code",
     "checksum": "093138e6d9b78aba39c5b9e1ab259dd2",
     "grade": true,
     "grade_id": "cell-58f454dbe0a476bd",
     "locked": false,
     "points": 4,
     "schema_version": 3,
     "solution": true,
     "task": false
    }
   },
   "outputs": [],
   "source": []
  },
  {
   "cell_type": "markdown",
   "metadata": {
    "nbgrader": {
     "cell_type": "markdown",
     "checksum": "cebccd5e7277ff0604797bbbb715472b",
     "grade": false,
     "grade_id": "cell-25a8aa0e6cf42de0",
     "locked": true,
     "schema_version": 3,
     "solution": false,
     "task": false
    }
   },
   "source": [
    "## B.3 Coin Flipping and Power\n",
    "\n",
    "Let $X$ be the number of heads in $n = 60$ tosses of a coin. Denote the probability of heads as $p$. In this example, we will explore properties of a test of whether the coin is biased toward heads. \n",
    "\n",
    "**B.3(a) [10 points] Explicitly write out the null and alternative hypotheses. Let the parameter space be all $p \\in (0,1)$.**"
   ]
  },
  {
   "cell_type": "markdown",
   "metadata": {
    "collapsed": true,
    "nbgrader": {
     "cell_type": "markdown",
     "checksum": "a870e55cd10efbe258a2ca3a2d89d125",
     "grade": true,
     "grade_id": "cell-9fc8c72c060b65e1",
     "locked": false,
     "points": 2,
     "schema_version": 3,
     "solution": true,
     "task": false
    }
   },
   "source": []
  },
  {
   "cell_type": "markdown",
   "metadata": {
    "nbgrader": {
     "cell_type": "markdown",
     "checksum": "6d1c5b72670ef0752d2b32fa6fcc04b4",
     "grade": false,
     "grade_id": "cell-003b3760bb89529d",
     "locked": true,
     "schema_version": 3,
     "solution": false,
     "task": false
    }
   },
   "source": [
    "**B.3(b) [8 points] Define the rejection region to be  $X \\ge 37$.  Calculate the rate of type I error. (For this part, and all remaining parts, calculate probabilities exactly, i.e., without using the normal approximation).**"
   ]
  },
  {
   "cell_type": "code",
   "execution_count": null,
   "metadata": {
    "nbgrader": {
     "cell_type": "code",
     "checksum": "7c5cb639af261da3d9ba8f664e31e5b7",
     "grade": true,
     "grade_id": "cell-e3d84d8692581f30",
     "locked": false,
     "points": 5,
     "schema_version": 3,
     "solution": true,
     "task": false
    }
   },
   "outputs": [],
   "source": []
  },
  {
   "cell_type": "markdown",
   "metadata": {
    "nbgrader": {
     "cell_type": "markdown",
     "checksum": "ddb321910b89d43c8b72ef9230f1798c",
     "grade": false,
     "grade_id": "cell-bff3c97fbb1e9073",
     "locked": true,
     "schema_version": 3,
     "solution": false,
     "task": false
    }
   },
   "source": [
    "**B.3(c) [14 points] Construct a grid of values for $p$ under the alternative hypothesis. For each value of $p$ in this grid, calculate the power of this test (remember that statistical power is the probability of rejecting the null hypothesis while an alternative hypothesis is true). Make a plot of the power ($y$-axis) vs $p$ ($x$-axis). Interpret/comment on this plot. In particular, as $p$ gets further from the $p$ specified under the null hypothesis, what happens to the power?**\n"
   ]
  },
  {
   "cell_type": "code",
   "execution_count": null,
   "metadata": {
    "nbgrader": {
     "cell_type": "code",
     "checksum": "4c9542b0b4cb84d04e09d490600a6802",
     "grade": true,
     "grade_id": "cell-4a1c3c8460c067ea",
     "locked": false,
     "points": 6,
     "schema_version": 3,
     "solution": true,
     "task": false
    }
   },
   "outputs": [],
   "source": []
  },
  {
   "cell_type": "markdown",
   "metadata": {
    "nbgrader": {
     "cell_type": "markdown",
     "checksum": "bad64bde42dbcac73ebcca85c3df48bf",
     "grade": true,
     "grade_id": "cell-875c1245d8164c27",
     "locked": false,
     "points": 4,
     "schema_version": 3,
     "solution": true,
     "task": false
    }
   },
   "source": []
  },
  {
   "cell_type": "markdown",
   "metadata": {
    "nbgrader": {
     "cell_type": "markdown",
     "checksum": "eb4151ab633b5de7a8cff00ec68cdf01",
     "grade": false,
     "grade_id": "cell-26cd7ab999a0a9b2",
     "locked": true,
     "schema_version": 3,
     "solution": false,
     "task": false
    }
   },
   "source": [
    "**B.3(d) [10 points] Suppose that you flip the coin and get $27$ heads out of $60$. Use this information to test your hypotheses from part B.3(a). State your conclusion.**\n"
   ]
  },
  {
   "cell_type": "code",
   "execution_count": null,
   "metadata": {
    "nbgrader": {
     "cell_type": "code",
     "checksum": "45a1b1edd635c7900f6db8f9598261fe",
     "grade": true,
     "grade_id": "cell-d4ed703dbccce40f",
     "locked": false,
     "points": 3,
     "schema_version": 3,
     "solution": true,
     "task": false
    }
   },
   "outputs": [],
   "source": []
  },
  {
   "cell_type": "markdown",
   "metadata": {
    "nbgrader": {
     "cell_type": "markdown",
     "checksum": "0fafd6933431dceda499141f5541c468",
     "grade": true,
     "grade_id": "cell-8cbcd15e3ab22880",
     "locked": false,
     "points": 3,
     "schema_version": 3,
     "solution": true,
     "task": false
    }
   },
   "source": []
  }
 ],
 "metadata": {
  "kernelspec": {
   "display_name": "R",
   "language": "R",
   "name": "ir"
  },
  "language_info": {
   "codemirror_mode": "r",
   "file_extension": ".r",
   "mimetype": "text/x-r-source",
   "name": "R",
   "pygments_lexer": "r",
   "version": "4.2.0"
  }
 },
 "nbformat": 4,
 "nbformat_minor": 2
}
