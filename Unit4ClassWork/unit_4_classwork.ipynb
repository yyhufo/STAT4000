{
 "cells": [
  {
   "cell_type": "markdown",
   "metadata": {
    "nbgrader": {
     "cell_type": "markdown",
     "checksum": "f29405ff9b18384c56860d01fdf81cf1",
     "grade": false,
     "grade_id": "cell-10b1a9d3bc816a20",
     "locked": true,
     "schema_version": 3,
     "solution": false,
     "task": false
    }
   },
   "source": [
    "# Unit 4 Classwork \n",
    "\n",
    "The goals of this assignment are to help you (1) use numerical simulation to analyze and interpret the Central Limit Theorem, (2) calculate probabilities using `R`, and (3) estimate probabilities and other quantities through numerical (computer) simulation. Such simulations can be useful. We can use simulations to help confirm that we've calculated a probability \"by hand\" correctly, or to estimate other quantities, like areas/integrals!\n",
    "\n",
    "\n",
    "## Problem 1\n",
    "\n",
    "**1.(a) In a matrix `x`, generate $500$ samples, each of size $n = 50$, from your favorite (non-normal) distribution.**\n",
    "\n",
    "*Note! In any practical scenario, we would only have one sample of size $n$. The purpose here is the study the distribution of the sample mean, $\\bar{x}$, over many (here, $500$) samples. This is an extremely important concept for statistical inference. The distribution of the sample mean, as well as the distribution of other estimators, over many samples will be used used heavily in the statistical inference portion of the class.*"
   ]
  },
  {
   "cell_type": "code",
   "execution_count": 3,
   "metadata": {
    "nbgrader": {
     "cell_type": "code",
     "checksum": "b82c45936a7abc064ccb6a1d8191015e",
     "grade": true,
     "grade_id": "cell-a5b95824956f6472",
     "locked": false,
     "points": 1,
     "schema_version": 3,
     "solution": true,
     "task": false
    },
    "vscode": {
     "languageId": "r"
    }
   },
   "outputs": [
    {
     "data": {
      "text/html": [
       "<ol class=list-inline>\n",
       "\t<li>500</li>\n",
       "\t<li>50</li>\n",
       "</ol>\n"
      ],
      "text/latex": [
       "\\begin{enumerate*}\n",
       "\\item 500\n",
       "\\item 50\n",
       "\\end{enumerate*}\n"
      ],
      "text/markdown": [
       "1. 500\n",
       "2. 50\n",
       "\n",
       "\n"
      ],
      "text/plain": [
       "[1] 500  50"
      ]
     },
     "metadata": {},
     "output_type": "display_data"
    },
    {
     "data": {
      "text/html": [
       "<table>\n",
       "<tbody>\n",
       "\t<tr><td>22 </td><td>32 </td><td>26 </td><td>21 </td><td>29 </td><td>31 </td><td>30 </td><td>25 </td><td>28 </td><td>27 </td><td>...</td><td>22 </td><td>30 </td><td>33 </td><td>25 </td><td>21 </td><td>25 </td><td>25 </td><td>28 </td><td>26 </td><td>27 </td></tr>\n",
       "\t<tr><td>31 </td><td>27 </td><td>22 </td><td>28 </td><td>20 </td><td>22 </td><td>23 </td><td>22 </td><td>19 </td><td>23 </td><td>...</td><td>25 </td><td>28 </td><td>25 </td><td>20 </td><td>25 </td><td>23 </td><td>22 </td><td>31 </td><td>27 </td><td>26 </td></tr>\n",
       "\t<tr><td>24 </td><td>30 </td><td>24 </td><td>21 </td><td>26 </td><td>24 </td><td>26 </td><td>25 </td><td>30 </td><td>24 </td><td>...</td><td>19 </td><td>30 </td><td>23 </td><td>20 </td><td>24 </td><td>27 </td><td>28 </td><td>30 </td><td>26 </td><td>28 </td></tr>\n",
       "\t<tr><td>31 </td><td>24 </td><td>25 </td><td>25 </td><td>21 </td><td>25 </td><td>23 </td><td>30 </td><td>27 </td><td>23 </td><td>...</td><td>25 </td><td>28 </td><td>30 </td><td>25 </td><td>21 </td><td>28 </td><td>27 </td><td>25 </td><td>30 </td><td>23 </td></tr>\n",
       "\t<tr><td>25 </td><td>22 </td><td>29 </td><td>21 </td><td>18 </td><td>24 </td><td>27 </td><td>22 </td><td>24 </td><td>27 </td><td>...</td><td>25 </td><td>28 </td><td>21 </td><td>29 </td><td>28 </td><td>28 </td><td>23 </td><td>27 </td><td>26 </td><td>29 </td></tr>\n",
       "\t<tr><td>27 </td><td>30 </td><td>25 </td><td>23 </td><td>25 </td><td>23 </td><td>27 </td><td>34 </td><td>25 </td><td>20 </td><td>...</td><td>25 </td><td>24 </td><td>22 </td><td>31 </td><td>28 </td><td>21 </td><td>25 </td><td>25 </td><td>24 </td><td>21 </td></tr>\n",
       "</tbody>\n",
       "</table>\n"
      ],
      "text/latex": [
       "\\begin{tabular}{llllllllllllllllllllllllllllllllllllllllllllllllll}\n",
       "\t 22  & 32  & 26  & 21  & 29  & 31  & 30  & 25  & 28  & 27  & ... & 22  & 30  & 33  & 25  & 21  & 25  & 25  & 28  & 26  & 27 \\\\\n",
       "\t 31  & 27  & 22  & 28  & 20  & 22  & 23  & 22  & 19  & 23  & ... & 25  & 28  & 25  & 20  & 25  & 23  & 22  & 31  & 27  & 26 \\\\\n",
       "\t 24  & 30  & 24  & 21  & 26  & 24  & 26  & 25  & 30  & 24  & ... & 19  & 30  & 23  & 20  & 24  & 27  & 28  & 30  & 26  & 28 \\\\\n",
       "\t 31  & 24  & 25  & 25  & 21  & 25  & 23  & 30  & 27  & 23  & ... & 25  & 28  & 30  & 25  & 21  & 28  & 27  & 25  & 30  & 23 \\\\\n",
       "\t 25  & 22  & 29  & 21  & 18  & 24  & 27  & 22  & 24  & 27  & ... & 25  & 28  & 21  & 29  & 28  & 28  & 23  & 27  & 26  & 29 \\\\\n",
       "\t 27  & 30  & 25  & 23  & 25  & 23  & 27  & 34  & 25  & 20  & ... & 25  & 24  & 22  & 31  & 28  & 21  & 25  & 25  & 24  & 21 \\\\\n",
       "\\end{tabular}\n"
      ],
      "text/markdown": [
       "\n",
       "| 22  | 32  | 26  | 21  | 29  | 31  | 30  | 25  | 28  | 27  | ... | 22  | 30  | 33  | 25  | 21  | 25  | 25  | 28  | 26  | 27  |\n",
       "| 31  | 27  | 22  | 28  | 20  | 22  | 23  | 22  | 19  | 23  | ... | 25  | 28  | 25  | 20  | 25  | 23  | 22  | 31  | 27  | 26  |\n",
       "| 24  | 30  | 24  | 21  | 26  | 24  | 26  | 25  | 30  | 24  | ... | 19  | 30  | 23  | 20  | 24  | 27  | 28  | 30  | 26  | 28  |\n",
       "| 31  | 24  | 25  | 25  | 21  | 25  | 23  | 30  | 27  | 23  | ... | 25  | 28  | 30  | 25  | 21  | 28  | 27  | 25  | 30  | 23  |\n",
       "| 25  | 22  | 29  | 21  | 18  | 24  | 27  | 22  | 24  | 27  | ... | 25  | 28  | 21  | 29  | 28  | 28  | 23  | 27  | 26  | 29  |\n",
       "| 27  | 30  | 25  | 23  | 25  | 23  | 27  | 34  | 25  | 20  | ... | 25  | 24  | 22  | 31  | 28  | 21  | 25  | 25  | 24  | 21  |\n",
       "\n"
      ],
      "text/plain": [
       "     [,1] [,2] [,3] [,4] [,5] [,6] [,7] [,8] [,9] [,10] [,11] [,12] [,13] [,14]\n",
       "[1,] 22   32   26   21   29   31   30   25   28   27    ...   22    30    33   \n",
       "[2,] 31   27   22   28   20   22   23   22   19   23    ...   25    28    25   \n",
       "[3,] 24   30   24   21   26   24   26   25   30   24    ...   19    30    23   \n",
       "[4,] 31   24   25   25   21   25   23   30   27   23    ...   25    28    30   \n",
       "[5,] 25   22   29   21   18   24   27   22   24   27    ...   25    28    21   \n",
       "[6,] 27   30   25   23   25   23   27   34   25   20    ...   25    24    22   \n",
       "     [,15] [,16] [,17] [,18] [,19] [,20] [,21]\n",
       "[1,] 25    21    25    25    28    26    27   \n",
       "[2,] 20    25    23    22    31    27    26   \n",
       "[3,] 20    24    27    28    30    26    28   \n",
       "[4,] 25    21    28    27    25    30    23   \n",
       "[5,] 29    28    28    23    27    26    29   \n",
       "[6,] 31    28    21    25    25    24    21   "
      ]
     },
     "metadata": {},
     "output_type": "display_data"
    }
   ],
   "source": [
    "set.seed(41)\n",
    "m <- 500\n",
    "n <- 50\n",
    "p <- 0.5\n",
    "x <- t(replicate(m, expr = rbinom(n, n, p)))\n",
    "dim(x)\n",
    "head(x)"
   ]
  },
  {
   "cell_type": "markdown",
   "metadata": {
    "nbgrader": {
     "cell_type": "markdown",
     "checksum": "2551f6ca2b65b06d897d0179df753395",
     "grade": false,
     "grade_id": "cell-76719d63ae6732db",
     "locked": true,
     "schema_version": 3,
     "solution": false,
     "task": false
    }
   },
   "source": [
    "**1.(b) Calculate the mean of each sample. This should be a vector of size $500$. Call this vector `xbar`.**\n",
    "\n",
    "`xbar` represents the means of $500$ different samples (again: in the real world, we'd only have one of these samples; but this allows us to think about the distribution of the estimator `xbar`).\n"
   ]
  },
  {
   "cell_type": "code",
   "execution_count": 4,
   "metadata": {
    "nbgrader": {
     "cell_type": "code",
     "checksum": "3fa8de14efe6130a1ce543f115012a76",
     "grade": true,
     "grade_id": "cell-55f6e05894def81f",
     "locked": false,
     "points": 1,
     "schema_version": 3,
     "solution": true,
     "task": false
    },
    "vscode": {
     "languageId": "r"
    }
   },
   "outputs": [
    {
     "data": {
      "text/html": [
       "500"
      ],
      "text/latex": [
       "500"
      ],
      "text/markdown": [
       "500"
      ],
      "text/plain": [
       "[1] 500"
      ]
     },
     "metadata": {},
     "output_type": "display_data"
    },
    {
     "data": {
      "text/html": [
       "<ol class=list-inline>\n",
       "\t<li>26.3</li>\n",
       "\t<li>24.38</li>\n",
       "\t<li>25.72</li>\n",
       "\t<li>25.44</li>\n",
       "\t<li>25.52</li>\n",
       "\t<li>25.36</li>\n",
       "</ol>\n"
      ],
      "text/latex": [
       "\\begin{enumerate*}\n",
       "\\item 26.3\n",
       "\\item 24.38\n",
       "\\item 25.72\n",
       "\\item 25.44\n",
       "\\item 25.52\n",
       "\\item 25.36\n",
       "\\end{enumerate*}\n"
      ],
      "text/markdown": [
       "1. 26.3\n",
       "2. 24.38\n",
       "3. 25.72\n",
       "4. 25.44\n",
       "5. 25.52\n",
       "6. 25.36\n",
       "\n",
       "\n"
      ],
      "text/plain": [
       "[1] 26.30 24.38 25.72 25.44 25.52 25.36"
      ]
     },
     "metadata": {},
     "output_type": "display_data"
    },
    {
     "data": {
      "text/html": [
       "23.62"
      ],
      "text/latex": [
       "23.62"
      ],
      "text/markdown": [
       "23.62"
      ],
      "text/plain": [
       "[1] 23.62"
      ]
     },
     "metadata": {},
     "output_type": "display_data"
    },
    {
     "data": {
      "text/html": [
       "26.8"
      ],
      "text/latex": [
       "26.8"
      ],
      "text/markdown": [
       "26.8"
      ],
      "text/plain": [
       "[1] 26.8"
      ]
     },
     "metadata": {},
     "output_type": "display_data"
    }
   ],
   "source": [
    "xbar <- rowMeans(x)\n",
    "length(xbar)\n",
    "head(xbar)\n",
    "min(xbar)\n",
    "max(xbar)"
   ]
  },
  {
   "cell_type": "markdown",
   "metadata": {
    "nbgrader": {
     "cell_type": "markdown",
     "checksum": "bd4c78a986762810d4722ee492ef3dc5",
     "grade": false,
     "grade_id": "cell-4349250b66d99c1e",
     "locked": true,
     "schema_version": 3,
     "solution": false,
     "task": false
    }
   },
   "source": [
    "**1.(c) Construct a histogram of the means. Characterize the distribution of `xbar`. What is the sample mean of `xbar`? The variance of `xbar`?**"
   ]
  },
  {
   "cell_type": "code",
   "execution_count": 8,
   "metadata": {
    "nbgrader": {
     "cell_type": "code",
     "checksum": "dc4fdce588ad15b7c94a8cb38f603214",
     "grade": true,
     "grade_id": "cell-01f0a85442b77c95",
     "locked": false,
     "points": 1,
     "schema_version": 3,
     "solution": true,
     "task": false
    },
    "vscode": {
     "languageId": "r"
    }
   },
   "outputs": [
    {
     "data": {
      "text/html": [
       "25.01848"
      ],
      "text/latex": [
       "25.01848"
      ],
      "text/markdown": [
       "25.01848"
      ],
      "text/plain": [
       "[1] 25.01848"
      ]
     },
     "metadata": {},
     "output_type": "display_data"
    },
    {
     "data": {
      "text/html": [
       "0.253562414428858"
      ],
      "text/latex": [
       "0.253562414428858"
      ],
      "text/markdown": [
       "0.253562414428858"
      ],
      "text/plain": [
       "[1] 0.2535624"
      ]
     },
     "metadata": {},
     "output_type": "display_data"
    },
    {
     "data": {
      "image/png": "[encoded data removed]",
      "text/plain": [
       "Plot with title \"Histogram of xbar\""
      ]
     },
     "metadata": {},
     "output_type": "display_data"
    }
   ],
   "source": [
    "hist(xbar, breaks=30)\n",
    "mean(xbar)\n",
    "var(xbar)"
   ]
  },
  {
   "cell_type": "markdown",
   "metadata": {
    "nbgrader": {
     "cell_type": "markdown",
     "checksum": "4f42a264950fdb8842687358ac923f2b",
     "grade": false,
     "grade_id": "cell-dbbd743779399c64",
     "locked": true,
     "schema_version": 3,
     "solution": false,
     "task": false
    }
   },
   "source": [
    "**1.(d) What theoretical result from class is this a demonstration of?**"
   ]
  },
  {
   "cell_type": "markdown",
   "metadata": {
    "collapsed": true,
    "nbgrader": {
     "cell_type": "markdown",
     "checksum": "36bb1548372c9dd319862dec2048335d",
     "grade": true,
     "grade_id": "cell-b8bdf8452699280b",
     "locked": false,
     "points": 1,
     "schema_version": 3,
     "solution": true,
     "task": false
    }
   },
   "source": [
    "Central Limit Theorem"
   ]
  },
  {
   "cell_type": "markdown",
   "metadata": {},
   "source": [
    "## Problem 2\n",
    "\n",
    "The amount of impurity in a batch of a chemical product is a random variable with mean value $4.0 \\, \\text{g}$ and standard deviation $1.5 \\, \\text{g}$. The distribution of this random variable is unknown.\n",
    "\n",
    "**If 50 batches are independently prepared, what is the (approximate) probability that the average amount of impurity in these $50$ batches is between $3.5 \\, \\text{g}$ and $3.8 \\, \\text{g}$?**"
   ]
  },
  {
   "cell_type": "code",
   "execution_count": 1,
   "metadata": {
    "vscode": {
     "languageId": "r"
    }
   },
   "outputs": [
    {
     "data": {
      "text/html": [
       "0.16367823034853"
      ],
      "text/latex": [
       "0.16367823034853"
      ],
      "text/markdown": [
       "0.16367823034853"
      ],
      "text/plain": [
       "[1] 0.1636782"
      ]
     },
     "metadata": {},
     "output_type": "display_data"
    }
   ],
   "source": [
    "mean = 4\n",
    "std_dev = 1.5\n",
    "n = 50\n",
    "\n",
    "error = std_dev / sqrt(n)\n",
    "\n",
    "z_3.5 = (3.5 - mean) / error\n",
    "z_3.8 = (3.8 - mean) / error\n",
    "\n",
    "p = pnorm(z_3.8) - pnorm(z_3.5)\n",
    "\n",
    "p"
   ]
  },
  {
   "cell_type": "markdown",
   "metadata": {
    "nbgrader": {
     "cell_type": "markdown",
     "checksum": "6e9fb9a61216382a8d1e27b09d229e93",
     "grade": false,
     "grade_id": "cell-2cb754dca07d8179",
     "locked": true,
     "schema_version": 3,
     "solution": false,
     "task": false
    }
   },
   "source": [
    "## Problem 3\n",
    "\n",
    "Suppose that we are going to collect data containing information for $480$ purchases at Monk's Cafe. Further, suppose we know two out of every three purchases at Monk's Cafe are paid for by credit cards.\n",
    "\n",
    "**3.(a) What is the probability that greater than $300$ (of the $480$) purchases will be made by credit card? Use a binomially distributed random variable here.**"
   ]
  },
  {
   "cell_type": "code",
   "execution_count": 2,
   "metadata": {
    "nbgrader": {
     "cell_type": "code",
     "checksum": "82310de3a677310e08be1baa8aea8d82",
     "grade": true,
     "grade_id": "cell-162339bf16c02c7e",
     "locked": false,
     "points": 1,
     "schema_version": 3,
     "solution": true,
     "task": false
    },
    "vscode": {
     "languageId": "r"
    }
   },
   "outputs": [
    {
     "data": {
      "text/html": [
       "0.969637219442597"
      ],
      "text/latex": [
       "0.969637219442597"
      ],
      "text/markdown": [
       "0.969637219442597"
      ],
      "text/plain": [
       "[1] 0.9696372"
      ]
     },
     "metadata": {},
     "output_type": "display_data"
    }
   ],
   "source": [
    "n = 480\n",
    "p_cc = 2/3\n",
    "k = 301\n",
    "\n",
    "p = 1 - pbinom(k - 1, size = n, prob = p_cc)\n",
    "p"
   ]
  },
  {
   "cell_type": "markdown",
   "metadata": {
    "nbgrader": {
     "cell_type": "markdown",
     "checksum": "eb072d9e94f2b405f29ae820459d87d7",
     "grade": false,
     "grade_id": "cell-3e0ac2e70a1b6168",
     "locked": true,
     "schema_version": 3,
     "solution": false,
     "task": false
    }
   },
   "source": [
    "**3.(b) Now, consider $X \\sim N\\left(\\mu=np, \\sigma= \\sqrt{np(1 - p)}\\right)$, for appropriate values of $n$ and $p$. Find the probability that $X$ is greater than $300$. Compare this to the answer in part 2.(a).**"
   ]
  },
  {
   "cell_type": "code",
   "execution_count": 3,
   "metadata": {
    "nbgrader": {
     "cell_type": "code",
     "checksum": "0ca70b7fa502e883f6d3c64528902b38",
     "grade": true,
     "grade_id": "cell-93879c8df6a6dedf",
     "locked": false,
     "points": 1,
     "schema_version": 3,
     "solution": true,
     "task": false
    },
    "vscode": {
     "languageId": "r"
    }
   },
   "outputs": [
    {
     "data": {
      "text/html": [
       "0.973596244291943"
      ],
      "text/latex": [
       "0.973596244291943"
      ],
      "text/markdown": [
       "0.973596244291943"
      ],
      "text/plain": [
       "[1] 0.9735962"
      ]
     },
     "metadata": {},
     "output_type": "display_data"
    }
   ],
   "source": [
    "mean = n * p_cc\n",
    "std = sqrt(n*p_cc * (1 - p_cc))\n",
    "x = 300\n",
    "\n",
    "z = (x - mean) / std\n",
    "\n",
    "p_norm = 1 - pnorm(z)\n",
    "\n",
    "p_norm"
   ]
  },
  {
   "cell_type": "markdown",
   "metadata": {},
   "source": [
    "The answer is around 97.35 percent, which is higher than the 96.96 percent value from the previous section."
   ]
  },
  {
   "cell_type": "markdown",
   "metadata": {
    "nbgrader": {
     "cell_type": "markdown",
     "checksum": "5dc75932037bfed458473445c2f0111a",
     "grade": false,
     "grade_id": "cell-7a5f0fe53ff53299",
     "locked": true,
     "schema_version": 3,
     "solution": false,
     "task": false
    }
   },
   "source": [
    "**3.(c) Plot the PMF of the binomial random variable used in 3.(a) and the PDF of $X$ from part 3.(b). Comment on the plots.**\n"
   ]
  },
  {
   "cell_type": "code",
   "execution_count": 5,
   "metadata": {
    "nbgrader": {
     "cell_type": "code",
     "checksum": "b0e1f458f7a940ddbc3bdaa86ddfeeab",
     "grade": true,
     "grade_id": "cell-283bc7553c7c2af9",
     "locked": false,
     "points": 1,
     "schema_version": 3,
     "solution": true,
     "task": false
    },
    "vscode": {
     "languageId": "r"
    }
   },
   "outputs": [
    {
     "data": {
      "image/png": "[encoded data removed]",
      "text/plain": [
       "Plot with title \"PMF 3a\""
      ]
     },
     "metadata": {
      "image/png": {
       "height": 420,
       "width": 420
      }
     },
     "output_type": "display_data"
    },
    {
     "data": {
      "image/png": "[encoded data removed]",
      "text/plain": [
       "Plot with title \"PDF 3b\""
      ]
     },
     "metadata": {
      "image/png": {
       "height": 420,
       "width": 420
      }
     },
     "output_type": "display_data"
    }
   ],
   "source": [
    "pmf_3a = dbinom(0:n, size = n, prob = p_cc)\n",
    "pdf_3b = dnorm(0:n, mean = mean, sd = std)\n",
    "\n",
    "# Plotting PMF\n",
    "plot(0:n, pmf_3a, type = \"h\", xlab = \"Number of Purchases\", ylab = \"P\", main = \"PMF 3a\")\n",
    "plot(0:n, pdf_3b, type = \"l\", xlab = \"Number of Purchases\", ylab = \"P\", main = \"PDF 3b\")"
   ]
  },
  {
   "cell_type": "markdown",
   "metadata": {
    "nbgrader": {
     "cell_type": "markdown",
     "checksum": "e7e129a5c66215cc67ea3bbc66ffdc8f",
     "grade": true,
     "grade_id": "cell-9a298bd63f367482",
     "locked": false,
     "points": 0,
     "schema_version": 3,
     "solution": true,
     "task": false
    }
   },
   "source": [
    "Through visual comparasion, I found that the two plots to have a similar distribution. The mean and standard deviation are also similar between the two plots. "
   ]
  },
  {
   "cell_type": "markdown",
   "metadata": {
    "nbgrader": {
     "cell_type": "markdown",
     "checksum": "8d08eee200438de81fade36e0adffb34",
     "grade": false,
     "grade_id": "cell-b6ee105a1f36bf40",
     "locked": true,
     "schema_version": 3,
     "solution": false,
     "task": false
    }
   },
   "source": [
    "**3.(d) Find the probability that between $300$ and $320$ people will pay for their purchases using a credit card. Use both the binomial distribution and the normal approximation given above.**"
   ]
  },
  {
   "cell_type": "code",
   "execution_count": 7,
   "metadata": {
    "nbgrader": {
     "cell_type": "code",
     "checksum": "580585edf4448de2e97e6470c429318e",
     "grade": true,
     "grade_id": "cell-1a7a243bf1c14460",
     "locked": false,
     "points": 1,
     "schema_version": 3,
     "solution": true,
     "task": false
    },
    "vscode": {
     "languageId": "r"
    }
   },
   "outputs": [
    {
     "data": {
      "text/html": [
       "0.492772300114457"
      ],
      "text/latex": [
       "0.492772300114457"
      ],
      "text/markdown": [
       "0.492772300114457"
      ],
      "text/plain": [
       "[1] 0.4927723"
      ]
     },
     "metadata": {},
     "output_type": "display_data"
    },
    {
     "data": {
      "text/html": [
       "0.473596244291943"
      ],
      "text/latex": [
       "0.473596244291943"
      ],
      "text/markdown": [
       "0.473596244291943"
      ],
      "text/plain": [
       "[1] 0.4735962"
      ]
     },
     "metadata": {},
     "output_type": "display_data"
    }
   ],
   "source": [
    "k1_bi = 300\n",
    "k2_bi = 320\n",
    "\n",
    "p_bi = sum(dbinom(k1_bi:k2_bi, size = n, prob = p_cc))\n",
    "\n",
    "p_bi\n",
    "\n",
    "z1 = (k1_bi - mean) / std\n",
    "z2 = (k2_bi - mean) / std\n",
    "\n",
    "p_norm = pnorm(z2) - pnorm(z1)\n",
    "\n",
    "p_norm"
   ]
  },
  {
   "cell_type": "markdown",
   "metadata": {},
   "source": [
    "The binomial distribution gives a probability of 49.3% while the normal approximation gives a probability of 47.4%"
   ]
  }
 ],
 "metadata": {
  "kernelspec": {
   "display_name": "R",
   "language": "R",
   "name": "ir"
  },
  "language_info": {
   "codemirror_mode": "r",
   "file_extension": ".r",
   "mimetype": "text/x-r-source",
   "name": "R",
   "pygments_lexer": "r",
   "version": "4.3.1"
  }
 },
 "nbformat": 4,
 "nbformat_minor": 2
}
