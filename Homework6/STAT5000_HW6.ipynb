{
 "cells": [
  {
   "cell_type": "markdown",
   "metadata": {
    "nbgrader": {
     "cell_type": "markdown",
     "checksum": "c10650a2505fbdb3713260eef15f86a4",
     "grade": false,
     "grade_id": "cell-028a6aaacd367700",
     "locked": true,
     "schema_version": 3,
     "solution": false,
     "task": false
    }
   },
   "source": [
    "# Homework #6\n",
    "\n",
    "**See Canvas for the HW #6 assignment and due date**. Complete all of the following problems. Ideally, the theoretical problems should be answered in a Markdown cell directly underneath the question. If you don't know LaTex/Markdown, you may submit separate handwritten solutions to the theoretical problems, but please see the [class scanning policy](https://docs.google.com/document/d/17y5ksolrn2rEuXYBv_3HeZhkPbYwt48UojNT1OvcB_w/edit?usp=sharing). Please do not turn in messy work. Computational problems should be completed in this notebook (using the R kernel). Computational questions may require code, plots, analysis, interpretation, etc. Working in small groups is allowed, but it is important that you make an effort to master the material and hand in your own work. \n",
    "\n"
   ]
  },
  {
   "cell_type": "markdown",
   "metadata": {
    "id": "Vpxs_7xzuHD8",
    "nbgrader": {
     "cell_type": "markdown",
     "checksum": "889b7205d3b70ef0d561cf6199d4a771",
     "grade": false,
     "grade_id": "cell-690073cfc39a9520",
     "locked": true,
     "schema_version": 3,
     "solution": false,
     "task": false
    }
   },
   "source": [
    "## A. Theoretical Problems"
   ]
  },
  {
   "cell_type": "markdown",
   "metadata": {
    "nbgrader": {
     "cell_type": "markdown",
     "checksum": "3e3d61907206a4990a70dfec22807fa3",
     "grade": false,
     "grade_id": "cell-0ace3c29ea921fa1",
     "locked": true,
     "schema_version": 3,
     "solution": false,
     "task": false
    }
   },
   "source": [
    "## A.1 [10 points] Approximate Confidence Interval for Proportions\n",
    "\n",
    "Recall from an earlier assignment that if $np > 5$ and $n(1-p) > 5$, then $X \\sim Bin(n,p)$ is well-approximated by $Y \\sim N\\left(np, np(1-p)\\right)$. Use this approximation in the question below. In particular, an approximate $(1-\\alpha)\\times 100\\%$ confidence interval for a population proportion $p$ is given by\n",
    "\n",
    "\\begin{align*}\n",
    "\\widehat{p} \\pm z_{\\alpha/2}\\sqrt{\\frac{\\widehat{p}(1-\\widehat{p})}{n}},\n",
    "\\end{align*}\n",
    "\n",
    "where $\\widehat{p}$ is the sample proportion. \n",
    "\n",
    "**Suppose that 12 people in a sample of 95 are members of the Green Party. Calculate an approximate 90% confidence interval for the true proportion of Green Party members in the population. Interpret this interval.**"
   ]
  },
  {
   "cell_type": "markdown",
   "metadata": {
    "nbgrader": {
     "cell_type": "markdown",
     "checksum": "5c53dbcdd380ac42c24a7fbbc921bb76",
     "grade": true,
     "grade_id": "cell-3782b231697a2fe3",
     "locked": false,
     "points": 10,
     "schema_version": 3,
     "solution": true,
     "task": false
    }
   },
   "source": [
    "$$\n",
    "\\text{Given: } \\widehat{p} = \\frac{12}{95}\n",
    "$$\n",
    "\n",
    "The critical value for a 90\\% confidence interval can be obtained from a standard normal distribution or a t-distribution table. For a normal distribution, $z_{\\alpha/2}$ is approximately 1.645.\n",
    "\n",
    "The formula for the confidence interval is:\n",
    "$$\n",
    "\\text{Confidence Interval} = \\widehat{p} \\pm z_{\\alpha/2} \\sqrt{\\frac{\\widehat{p}(1-\\widehat{p})}{n}}\n",
    "$$\n",
    "\n",
    "Substituting the values:\n",
    "$$\n",
    "\\text{Confidence Interval} = \\frac{12}{95} \\pm 1.645 \\sqrt{\\frac{\\frac{12}{95}\\left(1 - \\frac{12}{95}\\right)}{95}}\n",
    "$$"
   ]
  },
  {
   "cell_type": "code",
   "execution_count": 1,
   "metadata": {
    "vscode": {
     "languageId": "r"
    }
   },
   "outputs": [
    {
     "data": {
      "text/html": [
       "0.0702484222092599"
      ],
      "text/latex": [
       "0.0702484222092599"
      ],
      "text/markdown": [
       "0.0702484222092599"
      ],
      "text/plain": [
       "[1] 0.07024842"
      ]
     },
     "metadata": {},
     "output_type": "display_data"
    },
    {
     "data": {
      "text/html": [
       "0.182383156738109"
      ],
      "text/latex": [
       "0.182383156738109"
      ],
      "text/markdown": [
       "0.182383156738109"
      ],
      "text/plain": [
       "[1] 0.1823832"
      ]
     },
     "metadata": {},
     "output_type": "display_data"
    }
   ],
   "source": [
    "lower_bound <- (12/95) - 1.645 * sqrt(((12/95) * (1 - (12/95))) / 95)\n",
    "upper_bound <- (12/95) + 1.645 * sqrt(((12/95) * (1 - (12/95))) / 95)\n",
    "\n",
    "lower_bound\n",
    "upper_bound"
   ]
  },
  {
   "cell_type": "markdown",
   "metadata": {},
   "source": [
    "Calculating the values in R gives the interval:\n",
    "$$\n",
    "\\text{Confidence Interval} \\approx \\left(\\text{0.070248}, \\text{0.182383}\\right)\n",
    "$$\n",
    "\n",
    "Interpretation: We are 90\\% confident that the true proportion of Green Party members in the population is within the calculated interval $\\left(\\text{0.070248}, \\text{0.182383}\\right)$.\n",
    "$$"
   ]
  },
  {
   "cell_type": "markdown",
   "metadata": {
    "nbgrader": {
     "cell_type": "markdown",
     "checksum": "a96f285a8426324cafb44271f22d7e4c",
     "grade": false,
     "grade_id": "cell-cae651bd0f49963b",
     "locked": true,
     "schema_version": 3,
     "solution": false,
     "task": false
    }
   },
   "source": [
    "## A.2 [10 points] Speed of Light\n",
    "\n",
    "In 1881 Michelson and Newcomb measured the time light took to travel a distance of $7400$ meters. From a study of their experimental setup and a descriptive study of their $64$ measurements, we conclude that the data can be assumed to be i.i.d. These measurements yield the following sample quantities in microseconds for the sample mean $\\bar x$ and sample standard deviation $s$:\n",
    "$$\\bar{x}=27.75, s=5.08$$\n",
    "Construct a 95% confidence interval for the time light takes to travel 7400 meters.\n",
    "\n"
   ]
  },
  {
   "cell_type": "markdown",
   "metadata": {
    "nbgrader": {
     "cell_type": "markdown",
     "checksum": "b86d8bfb0ce7520bafaea9bbe6916b7e",
     "grade": true,
     "grade_id": "cell-e066ce487afd0eba",
     "locked": false,
     "points": 10,
     "schema_version": 3,
     "solution": true,
     "task": false
    }
   },
   "source": [
    "Given sample statistics: $\\bar{x} = 27.75$, $s = 5.08$, $n = 64$\n",
    "\n",
    "The formula for a 95\\% confidence interval for the population mean ($\\mu$) is given by:\n",
    "$$\n",
    "\\text{Confidence Interval} = \\bar{x} \\pm z_{\\alpha/2}\\left(\\frac{s}{\\sqrt{n}}\\right)\n",
    "$$\n",
    "\n",
    "Substituting the values:\n",
    "$$\n",
    "\\text{Confidence Interval} = 27.75 \\pm 1.96\\left(\\frac{5.08}{\\sqrt{64}}\\right)\n",
    "$$"
   ]
  },
  {
   "cell_type": "code",
   "execution_count": 2,
   "metadata": {
    "vscode": {
     "languageId": "r"
    }
   },
   "outputs": [
    {
     "data": {
      "text/html": [
       "26.5054"
      ],
      "text/latex": [
       "26.5054"
      ],
      "text/markdown": [
       "26.5054"
      ],
      "text/plain": [
       "[1] 26.5054"
      ]
     },
     "metadata": {},
     "output_type": "display_data"
    },
    {
     "data": {
      "text/html": [
       "28.9946"
      ],
      "text/latex": [
       "28.9946"
      ],
      "text/markdown": [
       "28.9946"
      ],
      "text/plain": [
       "[1] 28.9946"
      ]
     },
     "metadata": {},
     "output_type": "display_data"
    }
   ],
   "source": [
    "lower_bound <- 27.75 - 1.96 * (5.08 / sqrt(64))\n",
    "upper_bound <- 27.75 + 1.96 * (5.08 / sqrt(64))\n",
    "\n",
    "lower_bound\n",
    "upper_bound"
   ]
  },
  {
   "cell_type": "markdown",
   "metadata": {},
   "source": [
    "$$\n",
    "\\text{Confidence Interval} \\approx (\\text{26.5054}, \\text{28.9946})\n",
    "$$"
   ]
  },
  {
   "cell_type": "markdown",
   "metadata": {
    "nbgrader": {
     "cell_type": "markdown",
     "checksum": "6cbff0cc91cf3d400b517b0e6bef320e",
     "grade": false,
     "grade_id": "cell-945b2dfa8eca5ce0",
     "locked": true,
     "schema_version": 3,
     "solution": false,
     "task": false
    }
   },
   "source": [
    "## A.3 A Change on Confidence\n",
    "\n",
    "A journal article reports that a sample of size $n = 5$ was used as a basis for calculating a 95% CI for the true average natural frequency (Hz) of delaminated beams of a certain type. The resulting interval was $(229.764, 233.504)$. You decide that a confidence level of 99% is more appropriate than the 95% level used.\n",
    "\n",
    "**A.3 [14 points] (a) What are the limits of the 99% interval?**\n"
   ]
  },
  {
   "cell_type": "markdown",
   "metadata": {
    "nbgrader": {
     "cell_type": "markdown",
     "checksum": "ef9eda1858181ae40e6c9c6c27ffdd8d",
     "grade": true,
     "grade_id": "cell-811846eea8d9c207",
     "locked": false,
     "points": 10,
     "schema_version": 3,
     "solution": true,
     "task": false
    }
   },
   "source": [
    "$$\n",
    "\\text{Given interval for a 95\\% confidence level: } (229.764, 233.504)\n",
    "$$\n",
    "\n",
    "To find the limits of the 99\\% confidence interval, we use the formula for the confidence interval:\n",
    "$$\n",
    "\\text{Confidence Interval} = \\bar{x} \\pm t_{\\alpha/2}\\left(\\frac{s}{\\sqrt{n}}\\right)\n",
    "$$\n",
    "\n",
    "In this case, since the sample size is small ($n = 5$), we use the t-distribution. For a 99\\% confidence interval with 4 degrees of freedom (5-1), the critical value $t_{\\alpha/2}$ is approximately 4.604.\n",
    "\n",
    "Substituting the values into the formula:\n",
    "$$\n",
    "\\text{Confidence Interval} = \\bar{x} \\pm 4.604\\left(\\frac{s}{\\sqrt{n}}\\right)\n",
    "$$\n",
    "\n",
    "The 99\\% confidence interval is then:\n",
    "$$\n",
    "\\text{Confidence Interval} = \\bar{x} \\pm 4.604\\left(\\frac{s}{\\sqrt{5}}\\right)\n",
    "$$\n",
    "\n",
    "Given that the 95\\% confidence interval is $(229.764, 233.504)$, we can find $\\bar{x}$ by taking the midpoint of the interval:\n",
    "$$\n",
    "\\bar{x} = \\frac{229.764 + 233.504}{2} = 231.634\n",
    "$$\n",
    "\n",
    "Now, use the formula to find $s$:\n",
    "$$\n",
    "233.504 = 231.634 + 4.604\\left(\\frac{s}{\\sqrt{5}}\\right) \n",
    "$$\n",
    "\n",
    "Solving for $s$:\n",
    "$$\n",
    "s = \\frac{233.504 - 231.634}{4.604/\\sqrt{5}}\n",
    "$$\n"
   ]
  },
  {
   "cell_type": "code",
   "execution_count": 5,
   "metadata": {
    "vscode": {
     "languageId": "r"
    }
   },
   "outputs": [
    {
     "data": {
      "text/html": [
       "0.908220486082671"
      ],
      "text/latex": [
       "0.908220486082671"
      ],
      "text/markdown": [
       "0.908220486082671"
      ],
      "text/plain": [
       "[1] 0.9082205"
      ]
     },
     "metadata": {},
     "output_type": "display_data"
    }
   ],
   "source": [
    "# Calculate s\n",
    "s= (233.504 - 231.634) / (4.604 / sqrt(5))\n",
    "\n",
    "s"
   ]
  },
  {
   "cell_type": "markdown",
   "metadata": {},
   "source": [
    "Now, substitute this value along with $s$ and $n$ into the formula to find the limits of the 99\\% confidence interval."
   ]
  },
  {
   "cell_type": "code",
   "execution_count": 6,
   "metadata": {
    "vscode": {
     "languageId": "r"
    }
   },
   "outputs": [
    {
     "data": {
      "text/html": [
       "229.764"
      ],
      "text/latex": [
       "229.764"
      ],
      "text/markdown": [
       "229.764"
      ],
      "text/plain": [
       "[1] 229.764"
      ]
     },
     "metadata": {},
     "output_type": "display_data"
    },
    {
     "data": {
      "text/html": [
       "233.504"
      ],
      "text/latex": [
       "233.504"
      ],
      "text/markdown": [
       "233.504"
      ],
      "text/plain": [
       "[1] 233.504"
      ]
     },
     "metadata": {},
     "output_type": "display_data"
    }
   ],
   "source": [
    "lower_bound <- 231.634 - 4.604 * (s / sqrt(5))\n",
    "upper_bound <- 231.634 + 4.604 * (s / sqrt(5))\n",
    "\n",
    "lower_bound\n",
    "upper_bound"
   ]
  },
  {
   "cell_type": "markdown",
   "metadata": {},
   "source": [
    "$$\n",
    "\\text{Confidence Interval} \\approx (\\text{229.764}, \\text{233.504})\n",
    "$$"
   ]
  },
  {
   "cell_type": "markdown",
   "metadata": {
    "nbgrader": {
     "cell_type": "markdown",
     "checksum": "3a27d161a245847af7145e54afd6c16e",
     "grade": false,
     "grade_id": "cell-e84c0076ff00570b",
     "locked": true,
     "schema_version": 3,
     "solution": false,
     "task": false
    }
   },
   "source": [
    "## A.4 MLEs\n",
    "\n",
    "Suppose that $X_1,...,X_n \\overset{iid}{\\sim}N(\\mu, \\sigma^2)$, where $\\sigma$ is known, and we are ultimately interested in an estimator for $\\theta = \\mu^2$.\n",
    "\n",
    "**A.4 (a) [12 points] First, find the MLE of $\\mu$.** *(Hint: you may need to look back at the Unit 2 notes for the PDF of the normal distribution).*"
   ]
  },
  {
   "cell_type": "markdown",
   "metadata": {
    "nbgrader": {
     "cell_type": "markdown",
     "checksum": "c96c27547dbddd8ee6d7f16dfb0ce9c7",
     "grade": true,
     "grade_id": "cell-7519ca88bed55bfd",
     "locked": false,
     "points": 12,
     "schema_version": 3,
     "solution": true,
     "task": false
    }
   },
   "source": [
    "The likelihood function for the sample is the product of the individual PDFs:\n",
    "$$\n",
    "L(\\mu; x_1, x_2, \\ldots, x_n) = \\prod_{i=1}^{n} \\frac{1}{\\sqrt{2\\pi\\sigma^2}} \\exp\\left(-\\frac{(x_i - \\mu)^2}{2\\sigma^2}\\right)\n",
    "$$\n",
    "\n",
    "Taking the natural logarithm of the likelihood function simplifies the calculations:\n",
    "$$\n",
    "\\ln L(\\mu) = -\\frac{n}{2} \\ln(2\\pi\\sigma^2) - \\frac{1}{2\\sigma^2} \\sum_{i=1}^{n} (x_i - \\mu)^2\n",
    "$$\n",
    "\n",
    "To find the maximum likelihood estimator (MLE) for $\\mu$, differentiate $\\ln L(\\mu)$ with respect to $\\mu$ and set it equal to zero to find maximum:\n",
    "$$\n",
    "\\frac{d}{d\\mu} \\ln L(\\mu) = \\frac{1}{\\sigma^2} \\sum_{i=1}^{n} (x_i - \\mu) = 0\n",
    "$$\n",
    "\n",
    "Solving gives the MLE for $\\mu$, which is just the sample mean:\n",
    "$$\n",
    "\\hat{\\mu} = \\frac{1}{n} \\sum_{i=1}^{n} x_i\n",
    "$$\n",
    "$$\n"
   ]
  },
  {
   "cell_type": "markdown",
   "metadata": {
    "nbgrader": {
     "cell_type": "markdown",
     "checksum": "9e81782355dd2f4bb01a9a6cd8318b2a",
     "grade": false,
     "grade_id": "cell-0b554f25e22c97e6",
     "locked": true,
     "schema_version": 3,
     "solution": false,
     "task": false
    }
   },
   "source": [
    "**A.4 (b) [4 points] Find the maximum likelihood estimator (MLE) for $\\theta$, denoted $\\widehat{\\theta}$.**\n",
    "\n",
    "This should be easy!"
   ]
  },
  {
   "cell_type": "markdown",
   "metadata": {
    "collapsed": true,
    "nbgrader": {
     "cell_type": "markdown",
     "checksum": "19c055e11c7fc94b07dbfb02e173505c",
     "grade": true,
     "grade_id": "cell-65b16047cc5c6d09",
     "locked": false,
     "points": 4,
     "schema_version": 3,
     "solution": true,
     "task": false
    }
   },
   "source": [
    "$$\n",
    "\\text{Given: } \\theta = \\mu^2\n",
    "$$\n",
    "\n",
    "The maximum likelihood estimator (MLE) for $\\mu$ is:\n",
    "$$\n",
    "\\hat{\\mu} = \\frac{1}{n} \\sum_{i=1}^{n} x_i\n",
    "$$\n",
    "\n",
    "Now, substitute the MLE for $\\mu$ into the expression for $\\theta$:\n",
    "$$\n",
    "\\widehat{\\theta} = \\left(\\frac{1}{n} \\sum_{i=1}^{n} x_i\\right)^2\n",
    "$$\n"
   ]
  },
  {
   "cell_type": "markdown",
   "metadata": {
    "nbgrader": {
     "cell_type": "markdown",
     "checksum": "44ed220e9cfe53ebc1d00029dea6fe55",
     "grade": false,
     "grade_id": "cell-df74d04cdc3740a0",
     "locked": true,
     "schema_version": 3,
     "solution": false,
     "task": false
    }
   },
   "source": [
    "**A.4(c) [10 points] Compute the bias of $\\widehat{\\theta}$, denoted $Bias(\\widehat{\\theta})$. Recall that $Bias(\\widehat{\\theta}) = E(\\widehat{\\theta}) - \\theta$.**"
   ]
  },
  {
   "cell_type": "markdown",
   "metadata": {
    "nbgrader": {
     "cell_type": "markdown",
     "checksum": "e1bc8f8d14e59d8eb1ebb3ddde0f8453",
     "grade": true,
     "grade_id": "cell-caa3ef70c91d454c",
     "locked": false,
     "points": 10,
     "schema_version": 3,
     "solution": true,
     "task": false
    }
   },
   "source": [
    "$$\n",
    "\\text{Given: } \\widehat{\\theta} = \\left(\\frac{1}{n} \\sum_{i=1}^{n} x_i\\right)^2, \\quad \\theta = \\mu^2\n",
    "$$\n",
    "\n",
    "Compute the expected value of $\\widehat{\\theta}$:\n",
    "\\begin{align*}\n",
    "E(\\widehat{\\theta}) &= E\\left[\\left(\\frac{1}{n} \\sum_{i=1}^{n} x_i\\right)^2\\right] \\\\\n",
    "&= \\left(\\frac{1}{n}\\right)^2 \\sum_{i=1}^{n} E(x_i)^2 \\\\\n",
    "&= \\left(\\frac{1}{n}\\right)^2 \\sum_{i=1}^{n} \\mu^2 \\\\\n",
    "&= \\frac{1}{n}\\mu^2\n",
    "\\end{align*}\n",
    "\n",
    "Now, find the bias:\n",
    "\\begin{align*}\n",
    "Bias(\\widehat{\\theta}) &= E(\\widehat{\\theta}) - \\theta \\\\\n",
    "&= \\frac{1}{n}\\mu^2 - \\mu^2 \n",
    "\\end{align*}\n",
    "$$\n"
   ]
  },
  {
   "cell_type": "markdown",
   "metadata": {
    "id": "Vpxs_7xzuHD8",
    "nbgrader": {
     "cell_type": "markdown",
     "checksum": "863bef8aad0ca2ae7c337ef66e89090d",
     "grade": false,
     "grade_id": "cell-9b5c20c493d92330",
     "locked": true,
     "schema_version": 3,
     "solution": false,
     "task": false
    }
   },
   "source": [
    "## B. Computational Problems"
   ]
  },
  {
   "cell_type": "markdown",
   "metadata": {
    "nbgrader": {
     "cell_type": "markdown",
     "checksum": "08b6bcad6b7732af01a9e332435d0e80",
     "grade": false,
     "grade_id": "cell-046dbeb30b0f9fe2",
     "locked": true,
     "schema_version": 3,
     "solution": false,
     "task": false
    }
   },
   "source": [
    "## B.1 Hubble Data\n",
    "\n",
    "Load `hubble.csv` into `R`. A description of the variables can be obtained from page 73 of https://cran.r-project.org/web/packages/gamair/gamair.pdf."
   ]
  },
  {
   "cell_type": "code",
   "execution_count": 7,
   "metadata": {
    "nbgrader": {
     "cell_type": "code",
     "checksum": "b94199cf30da56f599e25782c526b7e9",
     "grade": false,
     "grade_id": "cell-d213b1826a1d034a",
     "locked": true,
     "schema_version": 3,
     "solution": false,
     "task": false
    },
    "vscode": {
     "languageId": "r"
    }
   },
   "outputs": [
    {
     "data": {
      "text/html": [
       "<table class=\"dataframe\">\n",
       "<caption>A data.frame: 6 x 4</caption>\n",
       "<thead>\n",
       "\t<tr><th></th><th scope=col>X</th><th scope=col>Galaxy</th><th scope=col>y</th><th scope=col>x</th></tr>\n",
       "\t<tr><th></th><th scope=col>&lt;int&gt;</th><th scope=col>&lt;chr&gt;</th><th scope=col>&lt;int&gt;</th><th scope=col>&lt;dbl&gt;</th></tr>\n",
       "</thead>\n",
       "<tbody>\n",
       "\t<tr><th scope=row>1</th><td>1</td><td>NGC0300 </td><td> 133</td><td> 2.00</td></tr>\n",
       "\t<tr><th scope=row>2</th><td>2</td><td>NGC0925 </td><td> 664</td><td> 9.16</td></tr>\n",
       "\t<tr><th scope=row>3</th><td>3</td><td>NGC1326A</td><td>1794</td><td>16.14</td></tr>\n",
       "\t<tr><th scope=row>4</th><td>4</td><td>NGC1365 </td><td>1594</td><td>17.95</td></tr>\n",
       "\t<tr><th scope=row>5</th><td>5</td><td>NGC1425 </td><td>1473</td><td>21.88</td></tr>\n",
       "\t<tr><th scope=row>6</th><td>6</td><td>NGC2403 </td><td> 278</td><td> 3.22</td></tr>\n",
       "</tbody>\n",
       "</table>\n"
      ],
      "text/latex": [
       "A data.frame: 6 x 4\n",
       "\\begin{tabular}{r|llll}\n",
       "  & X & Galaxy & y & x\\\\\n",
       "  & <int> & <chr> & <int> & <dbl>\\\\\n",
       "\\hline\n",
       "\t1 & 1 & NGC0300  &  133 &  2.00\\\\\n",
       "\t2 & 2 & NGC0925  &  664 &  9.16\\\\\n",
       "\t3 & 3 & NGC1326A & 1794 & 16.14\\\\\n",
       "\t4 & 4 & NGC1365  & 1594 & 17.95\\\\\n",
       "\t5 & 5 & NGC1425  & 1473 & 21.88\\\\\n",
       "\t6 & 6 & NGC2403  &  278 &  3.22\\\\\n",
       "\\end{tabular}\n"
      ],
      "text/markdown": [
       "\n",
       "A data.frame: 6 x 4\n",
       "\n",
       "| <!--/--> | X &lt;int&gt; | Galaxy &lt;chr&gt; | y &lt;int&gt; | x &lt;dbl&gt; |\n",
       "|---|---|---|---|---|\n",
       "| 1 | 1 | NGC0300  |  133 |  2.00 |\n",
       "| 2 | 2 | NGC0925  |  664 |  9.16 |\n",
       "| 3 | 3 | NGC1326A | 1794 | 16.14 |\n",
       "| 4 | 4 | NGC1365  | 1594 | 17.95 |\n",
       "| 5 | 5 | NGC1425  | 1473 | 21.88 |\n",
       "| 6 | 6 | NGC2403  |  278 |  3.22 |\n",
       "\n"
      ],
      "text/plain": [
       "  X Galaxy   y    x    \n",
       "1 1 NGC0300   133  2.00\n",
       "2 2 NGC0925   664  9.16\n",
       "3 3 NGC1326A 1794 16.14\n",
       "4 4 NGC1365  1594 17.95\n",
       "5 5 NGC1425  1473 21.88\n",
       "6 6 NGC2403   278  3.22"
      ]
     },
     "metadata": {},
     "output_type": "display_data"
    },
    {
     "data": {
      "text/plain": [
       "       X            Galaxy                y                x        \n",
       " Min.   : 1.00   Length:24          Min.   :  80.0   Min.   : 2.00  \n",
       " 1st Qu.: 6.75   Class :character   1st Qu.: 616.5   1st Qu.: 8.53  \n",
       " Median :12.50   Mode  :character   Median : 827.0   Median :13.08  \n",
       " Mean   :12.50                      Mean   : 924.4   Mean   :12.05  \n",
       " 3rd Qu.:18.25                      3rd Qu.:1423.2   3rd Qu.:15.87  \n",
       " Max.   :24.00                      Max.   :1794.0   Max.   :21.98  "
      ]
     },
     "metadata": {},
     "output_type": "display_data"
    }
   ],
   "source": [
    "hubble = read.csv(\"hubble.csv\")\n",
    "\n",
    "head(hubble)\n",
    "summary(hubble)"
   ]
  },
  {
   "cell_type": "markdown",
   "metadata": {
    "nbgrader": {
     "cell_type": "markdown",
     "checksum": "976329acb39bb037b5caeb41a0883af4",
     "grade": false,
     "grade_id": "cell-1fcef01f50067eaf",
     "locked": true,
     "schema_version": 3,
     "solution": false,
     "task": false
    }
   },
   "source": [
    "**B.1 (a) [20 points] Calculate the $85\\%$ confidence interval for the mean of a galaxy's distance from Earth in megaparsecs in `R` by doing the computation explicitly.**"
   ]
  },
  {
   "cell_type": "code",
   "execution_count": 18,
   "metadata": {
    "nbgrader": {
     "cell_type": "code",
     "checksum": "a3e8f070b0c8a615c12493c7f64fc43e",
     "grade": true,
     "grade_id": "cell-33ac20015847e7b0",
     "locked": false,
     "points": 10,
     "schema_version": 3,
     "solution": true,
     "task": false
    },
    "vscode": {
     "languageId": "r"
    }
   },
   "outputs": [
    {
     "data": {
      "text/html": [
       "<style>\n",
       ".list-inline {list-style: none; margin:0; padding: 0}\n",
       ".list-inline>li {display: inline-block}\n",
       ".list-inline>li:not(:last-child)::after {content: \"\\00b7\"; padding: 0 .5ex}\n",
       "</style>\n",
       "<ol class=list-inline><li>768.561179335184</li><li>1080.36090261526</li></ol>\n"
      ],
      "text/latex": [
       "\\begin{enumerate*}\n",
       "\\item 768.561179335184\n",
       "\\item 1080.36090261526\n",
       "\\end{enumerate*}\n"
      ],
      "text/markdown": [
       "1. 768.561179335184\n",
       "2. 1080.36090261526\n",
       "\n",
       "\n"
      ],
      "text/plain": [
       "[1]  768.5612 1080.3609"
      ]
     },
     "metadata": {},
     "output_type": "display_data"
    }
   ],
   "source": [
    "distance = sqrt(hubble$y^2 + hubble$x^2)\n",
    "\n",
    "n <- length(distance)\n",
    "x_bar <- sum(distance) / n\n",
    "s <- sqrt(sum((distance - x_bar)^2) / (n - 1))\n",
    "\n",
    "confidence_level <- 0.85\n",
    "df <- n - 1 #degrees of freedom\n",
    "\n",
    "SE <- s / sqrt(n) #standard error\n",
    "t_value <- qt((1 + confidence_level) / 2, df)\n",
    "ME <- t_value * SE #margin of error\n",
    "\n",
    "confidence_interval1 <- c(x_bar - ME, x_bar + ME)\n",
    "confidence_interval1\n"
   ]
  },
  {
   "cell_type": "markdown",
   "metadata": {
    "nbgrader": {
     "cell_type": "markdown",
     "checksum": "9386bcf53d879bac106e358e525d8667",
     "grade": false,
     "grade_id": "cell-6cf54d007ba6919b",
     "locked": true,
     "schema_version": 3,
     "solution": false,
     "task": false
    }
   },
   "source": [
    "**B.1 (b) [10 points] Find a built-in `R` function that does this computation automatically and verify that the built in `R` function does the same thing as the confidence interval formula used in part (a).**"
   ]
  },
  {
   "cell_type": "code",
   "execution_count": 19,
   "metadata": {
    "nbgrader": {
     "cell_type": "code",
     "checksum": "beb9c278ab235e9c8a6fda00f2d0b7b1",
     "grade": true,
     "grade_id": "cell-8200b423fc265b7f",
     "locked": false,
     "points": 4,
     "schema_version": 3,
     "solution": true,
     "task": false
    },
    "vscode": {
     "languageId": "r"
    }
   },
   "outputs": [
    {
     "data": {
      "text/html": [
       "<style>\n",
       ".list-inline {list-style: none; margin:0; padding: 0}\n",
       ".list-inline>li {display: inline-block}\n",
       ".list-inline>li:not(:last-child)::after {content: \"\\00b7\"; padding: 0 .5ex}\n",
       "</style>\n",
       "<ol class=list-inline><li>768.561179335184</li><li>1080.36090261526</li></ol>\n"
      ],
      "text/latex": [
       "\\begin{enumerate*}\n",
       "\\item 768.561179335184\n",
       "\\item 1080.36090261526\n",
       "\\end{enumerate*}\n"
      ],
      "text/markdown": [
       "1. 768.561179335184\n",
       "2. 1080.36090261526\n",
       "\n",
       "\n"
      ],
      "text/plain": [
       "[1]  768.5612 1080.3609\n",
       "attr(,\"conf.level\")\n",
       "[1] 0.85"
      ]
     },
     "metadata": {},
     "output_type": "display_data"
    }
   ],
   "source": [
    "confidence_interval2 <- t.test(distance,conf.level = 0.85)$conf.int\n",
    "\n",
    "confidence_interval2"
   ]
  },
  {
   "cell_type": "markdown",
   "metadata": {
    "nbgrader": {
     "cell_type": "markdown",
     "checksum": "8f03ac946313bbf955912983833bb612",
     "grade": false,
     "grade_id": "cell-dfb440ec24b2d910",
     "locked": true,
     "schema_version": 3,
     "solution": false,
     "task": false
    }
   },
   "source": [
    "**B.1(c) [10 points] Interpret the confidence interval.**"
   ]
  },
  {
   "cell_type": "markdown",
   "metadata": {
    "nbgrader": {
     "cell_type": "markdown",
     "checksum": "215ce8b5a3473cd67097db77086631df",
     "grade": true,
     "grade_id": "cell-98cd6fafd05a355c",
     "locked": false,
     "points": 5,
     "schema_version": 3,
     "solution": true,
     "task": false
    }
   },
   "source": [
    "Interpretation: We are 85\\% confident that the the distance a galaxy is from Earth is within the calculated interval $\\left(\\text{768.561179335184}, \\text{1080.36090261526}\\right)$ megaparsecs\n",
    "$$"
   ]
  }
 ],
 "metadata": {
  "kernelspec": {
   "display_name": "R",
   "language": "R",
   "name": "ir"
  },
  "language_info": {
   "codemirror_mode": "r",
   "file_extension": ".r",
   "mimetype": "text/x-r-source",
   "name": "R",
   "pygments_lexer": "r",
   "version": "4.3.1"
  }
 },
 "nbformat": 4,
 "nbformat_minor": 2
}
